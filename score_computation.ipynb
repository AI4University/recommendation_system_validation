{
 "cells": [
  {
   "cell_type": "markdown",
   "id": "ff6eb641-88a0-41ce-b4d1-56cc982d6569",
   "metadata": {},
   "source": [
    "En este notebook, se hacen los calculos necesarios para sacar métricas de evaluación de las recomendaciones tanto de researchers como de calls.\n",
    "\n",
    "versión: 22-03-2024  \n",
    "autores: Marta Almagro y Marta Balairón"
   ]
  },
  {
   "cell_type": "code",
   "execution_count": 1,
   "id": "142e99ef-fb8c-484f-8cca-5979e60b59f3",
   "metadata": {
    "tags": []
   },
   "outputs": [],
   "source": [
    "import pandas as pd\n",
    "import numpy as np\n",
    "from matplotlib import pyplot as plt\n",
    "from tqdm import tqdm\n",
    "\n",
    "from funciones_recommendation_system import get_datasets, match_researcher_call, recommendation_system_researcher_call, match_call_researcher, recommendation_system_call_researcher"
   ]
  },
  {
   "cell_type": "markdown",
   "id": "46956df1-53bc-4a2d-86ab-5395514bce54",
   "metadata": {},
   "source": [
    "# 1. Load datasets and Similarity matrices"
   ]
  },
  {
   "cell_type": "code",
   "execution_count": 2,
   "id": "3d10d412-c2f6-4a78-9c53-5bbbdf0b625f",
   "metadata": {
    "tags": []
   },
   "outputs": [
    {
     "name": "stderr",
     "output_type": "stream",
     "text": [
      "/home/mbalairon/.local/lib/python3.10/site-packages/openpyxl/worksheet/_reader.py:329: UserWarning: Data Validation extension is not supported and will be removed\n",
      "  warn(msg)\n"
     ]
    }
   ],
   "source": [
    "# load databases\n",
    "path = '/export/data_ml4ds/AI4U/Datasets/'\n",
    "version_wp = '20240510'\n",
    "version_rp = '20240321'\n",
    "df_publications, df_projects, df_publications_researchers,df_projects_researchers, df_researchers, df_calls = get_datasets(path, version_wp, version_rp)\n",
    "\n",
    "# load the validation set\n",
    "df_val = pd.read_excel('/export/usuarios_ml4ds/mafuello/Github/recommendation_system_validation/validation_set.xlsx')\n",
    "df_val = df_val.rename(columns={'research portal': 'invID'})\n",
    "df_val = df_val.rename(columns={'invID': 'id_RP'}).merge(df_researchers[['id_RP', 'id_researcher']], on='id_RP')"
   ]
  },
  {
   "cell_type": "code",
   "execution_count": 29,
   "id": "142ebd42-d4ef-41c4-be86-399b94f0d6e6",
   "metadata": {
    "tags": []
   },
   "outputs": [],
   "source": [
    "invID = df_val['id_researcher'][0]"
   ]
  },
  {
   "cell_type": "code",
   "execution_count": 55,
   "id": "624adcce-2c00-4fb0-a480-c44296648309",
   "metadata": {
    "tags": []
   },
   "outputs": [
    {
     "data": {
      "text/plain": [
       "1211"
      ]
     },
     "execution_count": 55,
     "metadata": {},
     "output_type": "execute_result"
    }
   ],
   "source": [
    "invID"
   ]
  },
  {
   "cell_type": "code",
   "execution_count": 31,
   "id": "120d8290-a156-46bd-b71d-3edbdc8917cc",
   "metadata": {
    "tags": []
   },
   "outputs": [
    {
     "data": {
      "text/plain": [
       "'Cavallaro, Rauno'"
      ]
     },
     "execution_count": 31,
     "metadata": {},
     "output_type": "execute_result"
    }
   ],
   "source": [
    "df_researchers[df_researchers['id_researcher']==invID].reset_index()['Name'][0]"
   ]
  },
  {
   "cell_type": "code",
   "execution_count": 49,
   "id": "1cc47749-2636-44cc-ab20-53eb2a27e2a3",
   "metadata": {
    "tags": []
   },
   "outputs": [],
   "source": [
    "call = df_val['Línea prioritia/panel/topic'][0]"
   ]
  },
  {
   "cell_type": "code",
   "execution_count": 41,
   "id": "f79a7337-9ef7-4569-b5dd-5ce24640ea84",
   "metadata": {
    "tags": []
   },
   "outputs": [],
   "source": [
    "ranking = recommendation_system_call_researcher(method='BERT', agg_method='mean', call='HORIZON-CL5-2023-D5-01-09', researchers=df_researchers)"
   ]
  },
  {
   "cell_type": "code",
   "execution_count": 42,
   "id": "7691f4e4-d439-4d33-ad7e-2a78e62e543b",
   "metadata": {
    "tags": []
   },
   "outputs": [
    {
     "data": {
      "text/plain": [
       "1227"
      ]
     },
     "execution_count": 42,
     "metadata": {},
     "output_type": "execute_result"
    }
   ],
   "source": [
    " ranking.shape[0]"
   ]
  },
  {
   "cell_type": "code",
   "execution_count": 44,
   "id": "017f81b2-ca8d-4740-87d8-0a420845402d",
   "metadata": {
    "tags": []
   },
   "outputs": [],
   "source": [
    "indice_valor_exacto = ranking.loc[ranking['id_researcher'] == invID].index[0]\n",
    "ranking = ranking.iloc[:indice_valor_exacto + 1]\n",
    "posicion = ranking.shape[0]"
   ]
  },
  {
   "cell_type": "code",
   "execution_count": 46,
   "id": "6d20b3e3-79ac-4b76-8bb1-2e02b159cd10",
   "metadata": {
    "tags": []
   },
   "outputs": [],
   "source": [
    "posicion = ranking.shape[0]\n",
    "max_similarity = ranking['similarity'][0]\n",
    "similarity = ranking['similarity'][posicion-1]"
   ]
  },
  {
   "cell_type": "code",
   "execution_count": 50,
   "id": "d34f0d94-dd5a-4833-ba9e-efd3a08784d3",
   "metadata": {
    "tags": []
   },
   "outputs": [],
   "source": [
    "acronimo = df_val['Acrónimo'][0]\n",
    "department = df_researchers[df_researchers['id_researcher']==invID].reset_index()['Department'][0]\n",
    "cluster = df_calls[df_calls['Call']==call].reset_index()['Work Programme'][0]\n"
   ]
  },
  {
   "cell_type": "code",
   "execution_count": 52,
   "id": "77e30d7d-587d-4183-8eab-075b895f2717",
   "metadata": {
    "tags": []
   },
   "outputs": [
    {
     "ename": "TypeError",
     "evalue": "sequence item 0: expected str instance, int found",
     "output_type": "error",
     "traceback": [
      "\u001b[0;31m---------------------------------------------------------------------------\u001b[0m",
      "\u001b[0;31mTypeError\u001b[0m                                 Traceback (most recent call last)",
      "Cell \u001b[0;32mIn[52], line 6\u001b[0m\n\u001b[1;32m      4\u001b[0m \u001b[38;5;28;01melif\u001b[39;00m posicion\u001b[38;5;241m>\u001b[39m\u001b[38;5;241m5\u001b[39m:\n\u001b[1;32m      5\u001b[0m     first_recommendations \u001b[38;5;241m=\u001b[39m ranking[target]\u001b[38;5;241m.\u001b[39mhead(\u001b[38;5;241m5\u001b[39m)\u001b[38;5;241m.\u001b[39mtolist()\n\u001b[0;32m----> 6\u001b[0m     first_recommendations \u001b[38;5;241m=\u001b[39m \u001b[38;5;124;43m'\u001b[39;49m\u001b[38;5;124;43m; \u001b[39;49m\u001b[38;5;124;43m'\u001b[39;49m\u001b[38;5;241;43m.\u001b[39;49m\u001b[43mjoin\u001b[49m\u001b[43m(\u001b[49m\u001b[43mfirst_recommendations\u001b[49m\u001b[43m)\u001b[49m\n\u001b[1;32m      7\u001b[0m \u001b[38;5;28;01melse\u001b[39;00m:\n\u001b[1;32m      8\u001b[0m     first_recommendations \u001b[38;5;241m=\u001b[39m ranking[target]\u001b[38;5;241m.\u001b[39mtolist()\n",
      "\u001b[0;31mTypeError\u001b[0m: sequence item 0: expected str instance, int found"
     ]
    }
   ],
   "source": [
    "target = 'id_researcher'\n",
    "if posicion == 1:\n",
    "    first_recommendations = ''\n",
    "elif posicion>5:\n",
    "    first_recommendations = ranking[target].head(5).tolist()\n",
    "    first_recommendations = '; '.join(first_recommendations)\n",
    "else:\n",
    "    first_recommendations = ranking[target].tolist()\n",
    "    first_recommendations.pop()   \n",
    "    first_recommendations = '; '.join(first_recommendations)"
   ]
  },
  {
   "cell_type": "code",
   "execution_count": 57,
   "id": "d2e9ecec-69c3-43e6-8804-f810917651b5",
   "metadata": {
    "tags": []
   },
   "outputs": [
    {
     "data": {
      "text/plain": [
       "0      Guerra Sancho, Antonio\n",
       "1    Cimadevilla Diez, Adrian\n",
       "2          Lachowski, Dariusz\n",
       "3            Modesti, Alberto\n",
       "4        San, Bun-Kim Nicolas\n",
       "Name: Name, dtype: object"
      ]
     },
     "execution_count": 57,
     "metadata": {},
     "output_type": "execute_result"
    }
   ],
   "source": [
    "ranking['Name'].head(5)\n",
    "\n",
    "#.tolist()"
   ]
  },
  {
   "cell_type": "markdown",
   "id": "57b8b8ed-6770-48a5-b228-4df83a013e4c",
   "metadata": {
    "tags": []
   },
   "source": [
    "# 2. Obtain Recommendations"
   ]
  },
  {
   "cell_type": "code",
   "execution_count": 58,
   "id": "c5555454-70cf-4115-a7e9-12180a858536",
   "metadata": {
    "tags": []
   },
   "outputs": [],
   "source": [
    "def get_validation_results(df_val, df_researchers, df_calls, method, agg_method, recommendations):\n",
    "    '''\n",
    "    Función para calcular las métricas de similitud además de preparar el dataset para el SI.\n",
    "    Se obtienen scores para las recomendacions de calls para un investigador dado\n",
    "    \n",
    "    df_val -> DataFrame con las propuestas de validación del SI (lo que han solicitado de verdad los investigadores)\n",
    "    df_researchers -> DataSet con todos los datos relativos a los investigadores\n",
    "    df_calls -> DataSet con todos los datos relativos a las convocatorias\n",
    "    method -> Method selected to calculate the similarities \n",
    "    agg_method -> Agregation method selected for calculating the similarties between calls and researchers\n",
    "    recommendations -> Must be either researchers or calls. It indicates if we are looking for recommendations of researchers or calls\n",
    "    \n",
    "    '''\n",
    "    \n",
    "    new_rows  = []\n",
    "    errores = []\n",
    "    total_iterations = df_val.shape[0]\n",
    "    for i in tqdm(range(total_iterations), desc=\"Processing\", unit=\" rows\", ncols=100):\n",
    "        invID = df_val['id_researcher'][i]\n",
    "        name = df_researchers[df_researchers['id_researcher']==invID].reset_index()['Name'][0]\n",
    "        call = df_val['Línea prioritia/panel/topic'][i]\n",
    "\n",
    "        try:\n",
    "            # in case we look for recommendations of calls given a researcher\n",
    "            if recommendations == 'calls':                 \n",
    "                # get the recommendations \n",
    "                ranking = recommendation_system_researcher_call(method=method, agg_method=agg_method, researcher=invID, calls=df_calls)\n",
    "                total_recommendations = ranking.shape[0]\n",
    "                indice_valor_exacto = ranking.loc[ranking['Call'] == call].index[0]\n",
    "                ranking = ranking.iloc[:indice_valor_exacto + 1]\n",
    "                target = 'Call' # para luego buscar la variable\n",
    "\n",
    "            # in case we look for recommendations of researchers given a call\n",
    "            if recommendations == 'researchers': \n",
    "                # get the recommendations \n",
    "                ranking = recommendation_system_call_researcher(method=method, agg_method=agg_method, call=call, researchers=df_researchers)\n",
    "                total_recommendations = ranking.shape[0]\n",
    "                indice_valor_exacto = ranking.loc[ranking['id_researcher'] == invID].index[0]\n",
    "                ranking = ranking.iloc[:indice_valor_exacto + 1]\n",
    "                posicion = ranking.shape[0]\n",
    "                target = 'id_researcher' # para luego buscar la variable\n",
    "\n",
    "            posicion = ranking.shape[0]\n",
    "            max_similarity = ranking['similarity'][0]\n",
    "            similarity = ranking['similarity'][posicion-1]\n",
    "\n",
    "            # obtain the necessary metadata SI\n",
    "            acronimo = df_val['Acrónimo'][i]\n",
    "            department = df_researchers[df_researchers['id_researcher']==invID].reset_index()['Department'][0]\n",
    "            cluster = df_calls[df_calls['Call']==call].reset_index()['Work Programme'][0]\n",
    "\n",
    "            if posicion == 1:\n",
    "                first_recommendations = ''\n",
    "            elif posicion>5:\n",
    "                first_recommendations = ranking['Name'].head(5).tolist()\n",
    "                first_recommendations = '; '.join(first_recommendations)\n",
    "            else:\n",
    "                first_recommendations = ranking['Name'].tolist()\n",
    "                first_recommendations.pop()   \n",
    "                first_recommendations = '; '.join(first_recommendations)\n",
    "\n",
    "            # compute score based on similarity\n",
    "            score_similarity = 1 - ((max_similarity - similarity)/max_similarity)    \n",
    "\n",
    "            # compute score based on position\n",
    "            if similarity == 0: \n",
    "                score_posicion = 0 \n",
    "            else:\n",
    "                score_posicion = 1 - ((posicion-1) / total_recommendations)\n",
    "\n",
    "            # compute score based on the cluster or department\n",
    "            if recommendations == 'calls':\n",
    "                cluster_correcto = ranking['Work Programme'][posicion-1]\n",
    "                count_cluster_correctos = 0\n",
    "                for i in range(ranking.shape[0]):\n",
    "                    if ranking['Work Programme'][i] == cluster_correcto:\n",
    "                        count_cluster_correctos += 1\n",
    "\n",
    "                score_cluster = count_cluster_correctos/ranking.shape[0]\n",
    "                target_col = 'cluster' # para luego nombrar la columna\n",
    "\n",
    "            if recommendations == 'researchers':\n",
    "                department_correcto = ranking['Department'][posicion-1]\n",
    "                count_department_correctos = 0\n",
    "                for i in range(ranking.shape[0]):\n",
    "                    if ranking['Department'][i] == department_correcto:\n",
    "                        count_department_correctos += 1\n",
    "\n",
    "                score_cluster = count_department_correctos/ranking.shape[0] \n",
    "                target_col = 'department' # para luego nombrar la columna\n",
    "            \n",
    "            # detect change of cluster in the recommendations\n",
    "            distinct_clusters = []\n",
    "            if recommendations == 'calls':\n",
    "                if ranking.shape[0] > 10:\n",
    "                    for i in range(10):\n",
    "                        if ranking['Work Programme'][i] != cluster_correcto:\n",
    "                            distinct_clusters.append(ranking['Call'][i])\n",
    "                else:\n",
    "                    for i in range(ranking.shape[0]):\n",
    "                        if ranking['Work Programme'][i] != cluster_correcto:\n",
    "                            distinct_clusters.append(ranking['Call'][i])\n",
    "\n",
    "                if len(distinct_clusters) > 3:\n",
    "                    distinct_clusters = distinct_clusters[:3]\n",
    "\n",
    "                distinct_clusters = '; '.join(distinct_clusters)\n",
    "                \n",
    "            # añadir la fila a la lista de diccionarios\n",
    "            score = (score_cluster + score_posicion + score_similarity)/3\n",
    "            new_rows.append({'Nombre': name,\n",
    "                             'Topic': call,\n",
    "                             'Acrónimo': acronimo,\n",
    "                             'Departamento': department,\n",
    "                             'Cluster': cluster,\n",
    "                             'Posición': posicion,\n",
    "                             'Similitud': similarity,\n",
    "                             'Método_Recomendación': method + '_' + agg_method,\n",
    "                             'Primeras_Recomendaciones':  first_recommendations,\n",
    "                             'Primeras_Recomendaciones_Clusters_Distintos': distinct_clusters,\n",
    "                             'Recomendando': recommendations,\n",
    "                             'score_posicion': score_posicion,\n",
    "                             'score_similitud': score_similarity,\n",
    "                             'score_{}'.format(target_col): score_cluster,\n",
    "                             'score': score})\n",
    "\n",
    "        except Exception as e:\n",
    "            errores.append([invID, call, str(e)])\n",
    "            \n",
    "    # crear un nuevo DataFrame con las filas añadidas\n",
    "    df_validation_results = pd.DataFrame(new_rows).sort_values(by='score', ascending=False).fillna(0)\n",
    "    # df_validation_results = pd.DataFrame(new_rows).fillna(0)\n",
    "    \n",
    "    return df_validation_results, errores\n"
   ]
  },
  {
   "cell_type": "code",
   "execution_count": 59,
   "id": "c984a78c-98bf-4c0d-a2a3-7d29e23ad027",
   "metadata": {
    "tags": []
   },
   "outputs": [],
   "source": [
    "def get_df_results(d):\n",
    "    '''\n",
    "    Función para unificar todos los datasest de un diccionario\n",
    "    \n",
    "    d -> Diccionario con todos los datasets a unificar\n",
    "    '''\n",
    "    dfs = []\n",
    "    for key, df in d.items():\n",
    "        # Agregar el DataFrame a la lista\n",
    "        dfs.append(df)\n",
    "        \n",
    "    df_result = pd.concat(dfs, ignore_index=True).sort_values(by = 'score', ascending = False).fillna(0)\n",
    "\n",
    "    return df_result"
   ]
  },
  {
   "cell_type": "code",
   "execution_count": 60,
   "id": "ea75c432-eb33-4e8c-906c-c30e997dc7d1",
   "metadata": {
    "tags": []
   },
   "outputs": [
    {
     "name": "stderr",
     "output_type": "stream",
     "text": [
      "Processing: 100%|████████████████████████████████████████████████| 51/51 [00:06<00:00,  7.94 rows/s]\n",
      "Processing: 100%|████████████████████████████████████████████████| 51/51 [00:06<00:00,  8.10 rows/s]\n",
      "Processing: 100%|████████████████████████████████████████████████| 51/51 [00:06<00:00,  7.98 rows/s]\n",
      "Processing: 100%|████████████████████████████████████████████████| 51/51 [00:06<00:00,  8.19 rows/s]\n",
      "Processing: 100%|████████████████████████████████████████████████| 51/51 [00:06<00:00,  8.28 rows/s]\n",
      "Processing: 100%|████████████████████████████████████████████████| 51/51 [00:06<00:00,  8.27 rows/s]\n",
      "Processing: 100%|████████████████████████████████████████████████| 51/51 [00:06<00:00,  8.13 rows/s]\n",
      "Processing: 100%|████████████████████████████████████████████████| 51/51 [00:06<00:00,  8.16 rows/s]\n",
      "Processing: 100%|████████████████████████████████████████████████| 51/51 [00:06<00:00,  8.03 rows/s]\n",
      "Processing: 100%|████████████████████████████████████████████████| 51/51 [00:06<00:00,  8.18 rows/s]\n",
      "Processing: 100%|████████████████████████████████████████████████| 51/51 [00:06<00:00,  8.17 rows/s]\n",
      "Processing: 100%|████████████████████████████████████████████████| 51/51 [00:06<00:00,  7.94 rows/s]\n"
     ]
    }
   ],
   "source": [
    "methods = ['BERT', 'tfidf', 'bhattacharyya', 'embeddings']\n",
    "agg_methods = ['sum', 'mean', 'mean_imp'] \n",
    "\n",
    "#methods = ['BERT', 'bhattacharyya']\n",
    "#methods = ['BERT']\n",
    "#agg_methods = ['mean_imp'] \n",
    "val_results_researchers = {}\n",
    "val_results_calls = {}\n",
    "\n",
    "\n",
    "# compute scores for recomendations of calls for a given researcher\n",
    "for i in methods:\n",
    "    for j in agg_methods:\n",
    "        val_results_researchers[f\"{i}_{j}_val_results\"], errores = get_validation_results(df_val=df_val, df_researchers=df_researchers, df_calls=df_calls, method=i, agg_method=j, recommendations='researchers')      \n",
    "        val_results_calls[f\"{i}_{j}_val_results\"], errores = get_validation_results(df_val=df_val, df_researchers=df_researchers, df_calls=df_calls, method=i, agg_method=j, recommendations='calls')\n",
    "\n",
    "# Unificar todos los dataframes\n",
    "df_val_researchers = get_df_results(val_results_researchers)\n",
    "df_val_calls = get_df_results(val_results_calls)\n",
    "\n"
   ]
  },
  {
   "cell_type": "code",
   "execution_count": 81,
   "id": "50ec66b7-b94a-407b-849e-5da918192d20",
   "metadata": {
    "tags": []
   },
   "outputs": [],
   "source": [
    "mapeo = {'BERT_mean_imp': 'Basado en palabras', 'bhattacharyya_mean_imp': 'Basado en modelo de tópicos'}\n",
    "\n",
    "#df_val_researchers['Método_Recomendación'] = df_val_researchers['Método_Recomendación'].replace(mapeo)\n",
    "df_val_calls['Método_Recomendación'] = df_val_calls['Método_Recomendación'].replace(mapeo)"
   ]
  },
  {
   "cell_type": "code",
   "execution_count": 65,
   "id": "0c5c34c6-b943-4e27-bbb4-f0d355c06e54",
   "metadata": {
    "tags": []
   },
   "outputs": [],
   "source": [
    "df_val_calls.to_parquet('/export/usuarios_ml4ds/mbalairon/github/recommendation_system_validation/df_val_calls_2024.parquet')"
   ]
  },
  {
   "cell_type": "code",
   "execution_count": 85,
   "id": "7e4a5ecd-5fe8-4a6f-aebb-ac228658ce60",
   "metadata": {
    "tags": []
   },
   "outputs": [],
   "source": [
    "#df_val_calls.to_csv('validation_recommendations_calls.csv', sep=',', decimal='.')\n",
    "#df_val_calls.to_excel('validation_recommendations_calls.xlsx')\n",
    "#df_val_researchers.to_csv('validation_recommendations_researchers.csv')"
   ]
  },
  {
   "cell_type": "code",
   "execution_count": null,
   "id": "5807614b-621c-4c44-9be4-18cc494ec84f",
   "metadata": {},
   "outputs": [],
   "source": []
  },
  {
   "cell_type": "markdown",
   "id": "d9d32bba-7cde-4c26-b64d-58f5eba13362",
   "metadata": {
    "tags": []
   },
   "source": [
    "# 3. Get Comparison Plots"
   ]
  },
  {
   "cell_type": "markdown",
   "id": "63eecd77-7b56-40bf-8f43-34b613a109db",
   "metadata": {
    "jp-MarkdownHeadingCollapsed": true,
    "tags": []
   },
   "source": [
    "### Historgram"
   ]
  },
  {
   "cell_type": "code",
   "execution_count": 109,
   "id": "76eaa49d-b2ca-4503-aea0-744a9c8f907e",
   "metadata": {
    "tags": []
   },
   "outputs": [],
   "source": [
    "def get_sim_matrix_score(method, agg_method, recommendations, path='/export/usuarios_ml4ds/mbalairon/github/recommendation_system/similarity_matrices_researchers/similarity_{}_{}.parquet'):\n",
    "    '''\n",
    "    Function for computing the similarity matrix scores depending if we are recommendating calls or researchers\n",
    "    \n",
    "    method -> Method selected to calculate the similarities \n",
    "    agg_method -> Agregation method selected for calculating the similarties between calls and researchers\n",
    "    recommendations -> Must be either researchers or calls. It indicates if we are looking for recommendations of researchers or calls\n",
    "    path -> Path to the file containing the similarity matrix. Important to have the similarity matrices stored as similarity_method_aggMethod.parquet\n",
    "    '''\n",
    "    sim_matrix = pd.read_parquet(path.format(method, agg_method)).fillna(0)\n",
    "    \n",
    "    df_similarity_scores = pd.DataFrame(columns=sim_matrix.columns, index=sim_matrix.index)\n",
    "\n",
    "    if recommendations == 'calls':\n",
    "        tqdm.pandas()\n",
    "\n",
    "        for index, row in tqdm(sim_matrix.iterrows(), total=len(sim_matrix), desc=\"Calculando similitud\"):\n",
    "            sort_row = row.sort_values(ascending=False)\n",
    "            max_similarity = sort_row.head(1)[0]\n",
    "\n",
    "            score_row = []\n",
    "\n",
    "            for similarity in row:\n",
    "                score_similarity = 1 - ((max_similarity - similarity)/max_similarity) \n",
    "                score_row.append(score_similarity)\n",
    "\n",
    "            df_similarity_scores.loc[index] = score_row\n",
    "    \n",
    "    if recommendations == 'researchers':\n",
    "        tqdm.pandas()\n",
    "\n",
    "        for col_index in tqdm(sim_matrix.columns, total=len(sim_matrix.columns), desc=\"Calculando similitud\"):\n",
    "            sorted_col = sim_matrix[col_index].sort_values(ascending=False)\n",
    "            max_similarity = sorted_col.head(1).reset_index()[col_index][0]\n",
    "\n",
    "            score_col = []\n",
    "            for similarity in sim_matrix[col_index]:\n",
    "                score_similarity = 1 - ((max_similarity - similarity)/max_similarity) \n",
    "                score_col.append(score_similarity)\n",
    "\n",
    "            df_similarity_scores[col_index] = score_col\n",
    "\n",
    "            \n",
    "    return df_similarity_scores"
   ]
  },
  {
   "cell_type": "code",
   "execution_count": 110,
   "id": "91db5115-dca3-45d0-9ec0-75cd5f9c127f",
   "metadata": {
    "tags": []
   },
   "outputs": [],
   "source": [
    "def get_plot_scores_analysis(df_all_scores, df_validation, method, agg_method, recommendations, save=False, path=None):\n",
    "    '''\n",
    "    Function for obtaining the plot for analysing the similarity scores for a given method and agg_method\n",
    "    \n",
    "    method -> Method selected to calculate the similarities \n",
    "    agg_method -> Agregation method selected for calculating the similarties between calls and researchers\n",
    "    recommendations -> Must be either researchers or calls. It indicates if we are looking for recommendations of researchers or calls\n",
    "    save -> Boolean for indicating if we want to save the plot\n",
    "    path -> saving path\n",
    "    '''\n",
    "    \n",
    "    values = df_all_scores.values.flatten()\n",
    "    highlight_values = df_validation['score_similitud']\n",
    "    \n",
    "    # Crear el histograma para todos los valores\n",
    "    n, bins, patches = plt.hist(values, bins=100, color='blue', label='All Recommendations', edgecolor='black')\n",
    "    \n",
    "    # Cambiar el color de las barras resaltadas\n",
    "    for patch in patches:\n",
    "        for val in highlight_values:\n",
    "            if patch.get_x() < val < patch.get_x() + patch.get_width():\n",
    "                patch.set_facecolor('red')\n",
    "                break\n",
    "\n",
    "    plt.xlabel('Similarity Score')\n",
    "    plt.ylabel('Frecuency')\n",
    "    plt.title('Analysis of {} recommendations computed with {} and aggregated by {}.'.format(recommendations, method, agg_method ))\n",
    "    plt.grid(True)\n",
    "    plt.tight_layout()\n",
    "    \n",
    "    # Leyenda para indicar las recomendaciones validadas\n",
    "    legend_elements = [\n",
    "        plt.Rectangle((0,0),1,1,color='blue', label='All Recommendations'),\n",
    "        plt.Rectangle((0,0),1,1,color='red', label='Validated Recommendations')\n",
    "    ]\n",
    "    plt.legend(handles=legend_elements)\n",
    "\n",
    "    if save:\n",
    "        plt.savefig(path)\n",
    "    \n",
    "    plt.show()"
   ]
  },
  {
   "cell_type": "code",
   "execution_count": 111,
   "id": "edfd03fc-1067-41df-b053-79f4ef15e3c2",
   "metadata": {
    "tags": []
   },
   "outputs": [],
   "source": [
    "def get_plot_scores_analysis_multiple(ax, df_all_scores, df_validation, method, agg_method, recommendations, save=False, path=None):\n",
    "    '''\n",
    "    Function for obtaining the plot for analysing the similarity scores comparing different aggregation methods\n",
    "    \n",
    "    method -> Method selected to calculate the similarities \n",
    "    agg_method -> Agregation method selected for calculating the similarties between calls and researchers\n",
    "    recommendations -> Must be either researchers or calls. It indicates if we are looking for recommendations of researchers or calls\n",
    "    save -> Boolean for indicating if we want to save the plot\n",
    "    path -> saving path\n",
    "    '''\n",
    "    \n",
    "    values = df_all_scores.values.flatten()\n",
    "    highlight_values = df_validation['score_similitud']\n",
    "    \n",
    "    # Crear el histograma para todos los valores\n",
    "    n, bins, patches = ax.hist(values, bins=50, color='blue', label='All Recommendations', edgecolor='black')\n",
    "    \n",
    "    # Cambiar el color de las barras resaltadas\n",
    "    for patch in patches:\n",
    "        for val in highlight_values:\n",
    "            if patch.get_x() < val < patch.get_x() + patch.get_width():\n",
    "                patch.set_facecolor('red')\n",
    "                break\n",
    "\n",
    "    ax.set_xlabel('Similarity Score')\n",
    "    ax.set_ylabel('Frequency')\n",
    "    ax.set_title('{}_{}.'.format(method, agg_method))\n",
    "    ax.grid(True)\n",
    "    \n",
    "    # Leyenda para indicar las recomendaciones validadas\n",
    "    legend_elements = [\n",
    "        plt.Rectangle((0,0),1,1,color='blue', label='All Recommendations'),\n",
    "        plt.Rectangle((0,0),1,1,color='red', label='Validated Recommendations')\n",
    "    ]\n",
    "    ax.legend(handles=legend_elements)\n",
    "\n",
    "    if save:\n",
    "        plt.savefig(path)\n"
   ]
  },
  {
   "cell_type": "code",
   "execution_count": 115,
   "id": "83cddbec-047f-4c8f-b1a4-47558573e5d4",
   "metadata": {
    "tags": []
   },
   "outputs": [
    {
     "name": "stderr",
     "output_type": "stream",
     "text": [
      "Calculando similitud:  96%|█████████▋| 1181/1227 [00:00<00:00, 1295.57it/s]/tmp/ipykernel_2972102/2165234701.py:24: RuntimeWarning: invalid value encountered in scalar divide\n",
      "  score_similarity = 1 - ((max_similarity - similarity)/max_similarity)\n",
      "Calculando similitud: 100%|██████████| 1227/1227 [00:00<00:00, 1298.40it/s]\n",
      "/Server/python/anaconda3/lib/python3.10/site-packages/numpy/lib/histograms.py:824: RuntimeWarning: invalid value encountered in greater_equal\n",
      "  keep = (tmp_a >= first_edge)\n",
      "/Server/python/anaconda3/lib/python3.10/site-packages/numpy/lib/histograms.py:825: RuntimeWarning: invalid value encountered in less_equal\n",
      "  keep &= (tmp_a <= last_edge)\n",
      "Calculando similitud:  87%|████████▋ | 1068/1227 [00:00<00:00, 1330.32it/s]/tmp/ipykernel_2972102/2165234701.py:24: RuntimeWarning: invalid value encountered in scalar divide\n",
      "  score_similarity = 1 - ((max_similarity - similarity)/max_similarity)\n",
      "Calculando similitud: 100%|██████████| 1227/1227 [00:00<00:00, 1324.61it/s]\n",
      "/Server/python/anaconda3/lib/python3.10/site-packages/numpy/lib/histograms.py:824: RuntimeWarning: invalid value encountered in greater_equal\n",
      "  keep = (tmp_a >= first_edge)\n",
      "/Server/python/anaconda3/lib/python3.10/site-packages/numpy/lib/histograms.py:825: RuntimeWarning: invalid value encountered in less_equal\n",
      "  keep &= (tmp_a <= last_edge)\n",
      "Calculando similitud:  86%|████████▌ | 1055/1227 [00:00<00:00, 1309.54it/s]/tmp/ipykernel_2972102/2165234701.py:24: RuntimeWarning: invalid value encountered in scalar divide\n",
      "  score_similarity = 1 - ((max_similarity - similarity)/max_similarity)\n",
      "Calculando similitud: 100%|██████████| 1227/1227 [00:00<00:00, 1259.00it/s]\n",
      "/Server/python/anaconda3/lib/python3.10/site-packages/numpy/lib/histograms.py:824: RuntimeWarning: invalid value encountered in greater_equal\n",
      "  keep = (tmp_a >= first_edge)\n",
      "/Server/python/anaconda3/lib/python3.10/site-packages/numpy/lib/histograms.py:825: RuntimeWarning: invalid value encountered in less_equal\n",
      "  keep &= (tmp_a <= last_edge)\n",
      "Calculando similitud: 100%|██████████| 1227/1227 [00:00<00:00, 1300.30it/s]\n"
     ]
    },
    {
     "data": {
      "image/png": "[encoded data removed]",
      "text/plain": [
       "<Figure size 1500x500 with 4 Axes>"
      ]
     },
     "metadata": {},
     "output_type": "display_data"
    }
   ],
   "source": [
    "methods = ['BERT', 'tfidf', 'bhattacharyya', 'embeddings']\n",
    "#agg_methods = ['sum', 'mean', 'mean_imp'] \n",
    "agg_method = 'mean_imp'\n",
    "recommendations = 'calls'\n",
    "\n",
    "fig, axs = plt.subplots(1, 4, figsize=(15, 5))\n",
    "\n",
    "for i, method in enumerate(methods):\n",
    "    df_validation = val_results_researchers[f\"{method}_{agg_method}_val_results\"]    \n",
    "    df_all_scores = get_sim_matrix_score(method=method, agg_method=agg_method, recommendations=recommendations)\n",
    "    get_plot_scores_analysis_multiple(axs[i], df_all_scores, df_validation, method=method, agg_method=agg_method, recommendations=recommendations)\n",
    "\n",
    "plt.suptitle('Analysis of the Recommendations of Researchers obtained by Different Methods', fontsize=16)\n",
    "plt.tight_layout()\n",
    "plt.show()\n"
   ]
  },
  {
   "cell_type": "markdown",
   "id": "5ff62d90-14d7-406d-9421-7a349f0c7300",
   "metadata": {
    "tags": []
   },
   "source": [
    "### Boxplot"
   ]
  },
  {
   "cell_type": "code",
   "execution_count": 122,
   "id": "395685b7-66f9-4a02-bfd4-b2fffe7a1517",
   "metadata": {
    "tags": []
   },
   "outputs": [],
   "source": [
    "def plot_box_scores(df_all_scores, df_validation, method, agg_method, recommendations, save=False, path=None):\n",
    "    '''\n",
    "    Function for plotting box plots of similarity scores for all recommendations and validated recommendations\n",
    "    \n",
    "    df_all_scores -> DataFrame containing similarity scores for all recommendations\n",
    "    df_validation -> DataFrame containing validation results\n",
    "    method -> Method selected to calculate the similarities \n",
    "    agg_method -> Aggregation method selected for calculating the similarities between calls and researchers\n",
    "    recommendations -> Must be either researchers or calls. It indicates if we are looking for recommendations of researchers or calls\n",
    "    save -> Boolean for indicating if we want to save the plot\n",
    "    path -> Saving path\n",
    "    '''\n",
    "    \n",
    "    all_scores = df_all_scores.values.flatten()\n",
    "    valid_scores = df_validation['score_similitud']\n",
    "    \n",
    "    plt.boxplot([all_scores, valid_scores], labels=['All Recommendations', 'Validated Recommendations'])\n",
    "    \n",
    "    plt.xlabel('Recommendations')\n",
    "    plt.ylabel('Similarity Score')\n",
    "    plt.title('Box Plot of Similarity Scores for {} Recommendations (Method: {}, Aggregation: {})'.format(recommendations, method, agg_method))\n",
    "    plt.grid(True)\n",
    "    plt.tight_layout()\n",
    "\n",
    "    if save:\n",
    "        plt.savefig(path)\n",
    "    \n",
    "    plt.show()\n",
    "\n",
    "# Llama a la función para generar el box plot\n",
    "#plot_box_scores(df_all_scores, df_validation, method, agg_method, recommendations)\n"
   ]
  },
  {
   "cell_type": "code",
   "execution_count": 123,
   "id": "723152a0-2206-4824-9f8d-a004efbbfb66",
   "metadata": {
    "tags": []
   },
   "outputs": [],
   "source": [
    "def get_plot_scores_analysis_multiple(ax, df_all_scores, df_validation, method, agg_method, recommendations, save=False, path=None):\n",
    "    '''\n",
    "    Function for obtaining the plot for analysing the similarity scores comparing different aggregation methods\n",
    "    \n",
    "    ax -> Axes object to plot on\n",
    "    df_all_scores -> DataFrame containing similarity scores for all recommendations\n",
    "    df_validation -> DataFrame containing validation results\n",
    "    method -> Method selected to calculate the similarities \n",
    "    agg_method -> Aggregation method selected for calculating the similarities between calls and researchers\n",
    "    recommendations -> Must be either researchers or calls. It indicates if we are looking for recommendations of researchers or calls\n",
    "    save -> Boolean for indicating if we want to save the plot\n",
    "    path -> Saving path\n",
    "    '''\n",
    "    \n",
    "    all_scores = df_all_scores.values.flatten()\n",
    "    valid_scores = df_validation['score_similitud']\n",
    "    \n",
    "    ax.boxplot([all_scores, valid_scores], labels=['All', 'Validated'])\n",
    "    \n",
    "    ax.set_xlabel('Recommendations')\n",
    "    ax.set_ylabel('Similarity Score')\n",
    "    ax.set_title('{}_{}'.format(method, agg_method))\n",
    "    ax.grid(True)\n",
    "\n",
    "    if save:\n",
    "        plt.savefig(path)"
   ]
  },
  {
   "cell_type": "code",
   "execution_count": 134,
   "id": "08376eee-dd73-48b4-a089-a33ee8fa665f",
   "metadata": {
    "tags": []
   },
   "outputs": [],
   "source": [
    "def get_sim_matrix_score(method, agg_method, recommendations, path='/export/usuarios_ml4ds/mbalairon/github/recommendation_system/similarity_matrices_researchers/similarity_{}_{}.parquet'):\n",
    "    '''\n",
    "    Function for computing the similarity matrix scores depending if we are recommending calls or researchers\n",
    "    \n",
    "    method -> Method selected to calculate the similarities \n",
    "    agg_method -> Aggregation method selected for calculating the similarities between calls and researchers\n",
    "    recommendations -> Must be either researchers or calls. It indicates if we are looking for recommendations of researchers or calls\n",
    "    path -> Path to the file containing the similarity matrix. Important to have the similarity matrices stored as similarity_method_aggMethod.parquet\n",
    "    '''\n",
    "    sim_matrix = pd.read_parquet(path.format(method, agg_method)).fillna(0)\n",
    "    \n",
    "    df_similarity_scores = pd.DataFrame(columns=sim_matrix.columns, index=sim_matrix.index)\n",
    "\n",
    "    if recommendations == 'calls':\n",
    "        tqdm.pandas()\n",
    "\n",
    "        for index, row in tqdm(sim_matrix.iterrows(), total=len(sim_matrix), desc=\"Calculating similarity\"):\n",
    "            sort_row = row.sort_values(ascending=False)\n",
    "            max_similarity = sort_row.head(1)[0]\n",
    "\n",
    "            score_row = []\n",
    "\n",
    "            if max_similarity != 0:\n",
    "                for similarity in row:\n",
    "                    score_similarity = 1 - ((max_similarity - similarity) / max_similarity) \n",
    "                    score_row.append(score_similarity)\n",
    "            else:\n",
    "                score_row = [0] * len(row)\n",
    "\n",
    "            df_similarity_scores.loc[index] = score_row\n",
    "    \n",
    "    if recommendations == 'researchers':\n",
    "        tqdm.pandas()\n",
    "\n",
    "        for col_index in tqdm(sim_matrix.columns, total=len(sim_matrix.columns), desc=\"Calculating similarity\"):\n",
    "            sorted_col = sim_matrix[col_index].sort_values(ascending=False)\n",
    "            max_similarity = sorted_col.head(1).reset_index()[col_index][0]\n",
    "\n",
    "            score_col = []\n",
    "            if max_similarity != 0:\n",
    "                for similarity in sim_matrix[col_index]:\n",
    "                    score_similarity = 1 - ((max_similarity - similarity) / max_similarity) \n",
    "                    score_col.append(score_similarity)\n",
    "            else:\n",
    "                score_col = [0] * len(sim_matrix[col_index])\n",
    "\n",
    "            df_similarity_scores[col_index] = score_col\n",
    "            \n",
    "    return df_similarity_scores\n",
    "\n"
   ]
  },
  {
   "cell_type": "code",
   "execution_count": 135,
   "id": "f8460151-dc14-4f99-ad70-7ad16786aa74",
   "metadata": {
    "tags": []
   },
   "outputs": [
    {
     "name": "stderr",
     "output_type": "stream",
     "text": [
      "Calculating similarity: 100%|██████████| 766/766 [00:01<00:00, 627.13it/s]\n",
      "Calculating similarity: 100%|██████████| 766/766 [00:01<00:00, 645.15it/s]\n",
      "Calculating similarity: 100%|██████████| 766/766 [00:01<00:00, 646.20it/s]\n"
     ]
    },
    {
     "data": {
      "image/png": "[encoded data removed]",
      "text/plain": [
       "<Figure size 1500x500 with 3 Axes>"
      ]
     },
     "metadata": {},
     "output_type": "display_data"
    }
   ],
   "source": [
    "methods = ['BERT', 'tfidf', 'bhattacharyya', 'embeddings']\n",
    "method = methods[3]\n",
    "agg_methods = ['sum', 'mean', 'mean_imp'] \n",
    "\n",
    "recommendations = 'researchers'\n",
    "\n",
    "fig, axs = plt.subplots(1, len(agg_methods), figsize=(15, 5))\n",
    "\n",
    "for i, agg_method in enumerate(agg_methods):\n",
    "    df_validation = val_results_researchers[f\"{method}_{agg_method}_val_results\"]    \n",
    "    df_all_scores = get_sim_matrix_score(method=method, agg_method=agg_method, recommendations=recommendations)\n",
    "    get_plot_scores_analysis_multiple(axs[i], df_all_scores, df_validation, method=method, agg_method=agg_method, recommendations=recommendations)\n",
    "\n",
    "plt.suptitle('Analysis of the Recommendations of Researchers obtained by Different Methods', fontsize=16)\n",
    "plt.tight_layout()\n",
    "plt.show()"
   ]
  },
  {
   "cell_type": "code",
   "execution_count": null,
   "id": "015043a7-af00-4478-a2d0-b629c86a1371",
   "metadata": {},
   "outputs": [],
   "source": []
  }
 ],
 "metadata": {
  "kernelspec": {
   "display_name": "Python 3 (ipykernel)",
   "language": "python",
   "name": "python3"
  },
  "language_info": {
   "codemirror_mode": {
    "name": "ipython",
    "version": 3
   },
   "file_extension": ".py",
   "mimetype": "text/x-python",
   "name": "python",
   "nbconvert_exporter": "python",
   "pygments_lexer": "ipython3",
   "version": "3.10.11"
  }
 },
 "nbformat": 4,
 "nbformat_minor": 5
}
