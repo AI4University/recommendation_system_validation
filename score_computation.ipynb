{
 "cells": [
  {
   "cell_type": "code",
   "execution_count": 42,
   "id": "142e99ef-fb8c-484f-8cca-5979e60b59f3",
   "metadata": {
    "tags": []
   },
   "outputs": [
    {
     "name": "stderr",
     "output_type": "stream",
     "text": [
      "/home/mbalairon/.local/lib/python3.10/site-packages/fuzzywuzzy/fuzz.py:11: UserWarning: Using slow pure-python SequenceMatcher. Install python-Levenshtein to remove this warning\n",
      "  warnings.warn('Using slow pure-python SequenceMatcher. Install python-Levenshtein to remove this warning')\n"
     ]
    }
   ],
   "source": [
    "import pandas as pd\n",
    "import numpy as np\n",
    "from fuzzywuzzy import process"
   ]
  },
  {
   "cell_type": "markdown",
   "id": "46956df1-53bc-4a2d-86ab-5395514bce54",
   "metadata": {},
   "source": [
    "# 1. Load datasets and Similarity matrices"
   ]
  },
  {
   "cell_type": "code",
   "execution_count": 12,
   "id": "3d10d412-c2f6-4a78-9c53-5bbbdf0b625f",
   "metadata": {
    "tags": []
   },
   "outputs": [],
   "source": [
    "# load databases\n",
    "df_eic = pd.read_parquet('/export/data_ml4ds/AI4U/Datasets/work_programmes/EIC_work_programmes.parquet')\n",
    "df_horizon = pd.read_parquet('/export/data_ml4ds/AI4U/Datasets/work_programmes/horizon_work_programmes.parquet')\n",
    "\n",
    "df_publications = pd.read_parquet('/export/usuarios_ml4ds/mbalairon/github/recommendation_system/dataset/publications_topics.parquet')\n",
    "df_publications_researchers = pd.read_parquet('/export/usuarios_ml4ds/mbalairon/github/data_ingest/UC3M ResearchPortal/Outputs/researchers_publications.parquet')\n",
    "df_researchers = pd.read_parquet('/export/usuarios_ml4ds/mbalairon/github/data_ingest/UC3M ResearchPortal/Outputs/researchers.parquet')\n",
    "\n",
    "# join together al the calls (igual que cuando creamos las matrices de similitud)\n",
    "df_eic['Call'] = df_eic['id']\n",
    "df_calls = pd.concat([df_horizon[['Call', 'Work Programme']], df_eic[['Call', 'Work Programme']]], axis=0).reset_index(drop=True)\n",
    "\n",
    "# load the validation set\n",
    "df_val = pd.read_excel('/export/usuarios_ml4ds/mbalairon/github/validation_recommendation_system/validation_set.xlsx')"
   ]
  },
  {
   "cell_type": "code",
   "execution_count": 15,
   "id": "8766a93e-1a55-4315-86e6-8696d04633d7",
   "metadata": {
    "tags": []
   },
   "outputs": [],
   "source": [
    "# load similarity matrixs\n",
    "similarity_embeddings_mean_imp = pd.read_parquet('/export/usuarios_ml4ds/mbalairon/github/recommendation_system/similarity_matrices_researchers/similarity_embeddings_mean_imp.parquet')\n",
    "similarity_BERT_mean_imp = pd.read_parquet('/export/usuarios_ml4ds/mbalairon/github/recommendation_system/similarity_matrices_researchers/similarity_BERT_mean_imp.parquet')\n",
    "similarity_tfidf_mean_imp = pd.read_parquet('/export/usuarios_ml4ds/mbalairon/github/recommendation_system/similarity_matrices_researchers/similarity_tfidf_mean_imp.parquet')\n",
    "similarity_battacharyya_mean_imp = pd.read_parquet('/export/usuarios_ml4ds/mbalairon/github/recommendation_system/similarity_matrices_researchers/similarity_bhattacharyya_mean_imp.parquet')"
   ]
  },
  {
   "cell_type": "markdown",
   "id": "57b8b8ed-6770-48a5-b228-4df83a013e4c",
   "metadata": {
    "tags": []
   },
   "source": [
    "# 2. Obtain Recommendations"
   ]
  },
  {
   "cell_type": "code",
   "execution_count": 18,
   "id": "78f9d55b-e5fc-4883-a385-2876a55cdcf6",
   "metadata": {
    "tags": []
   },
   "outputs": [],
   "source": [
    "def match(similarities, researcher, df_calls, n=667):\n",
    "    '''\n",
    "    Function for obtaining the ranking of researchers given a call \n",
    "    \n",
    "    similarities -> df with all the smmilarities between researchers and calls\n",
    "    researcher -> Researcher of interest\n",
    "    n -> Number of recommendations we are interested in \n",
    "    df_calls -> Dataframe with the information about the calls\n",
    "    '''\n",
    "    \n",
    "    ranking = similarities.transpose()[researcher].sort_values(ascending=False).fillna(0)\n",
    "    ranking = pd.DataFrame(ranking).reset_index()\n",
    "    id_calls = ranking['index'].to_list()\n",
    "    similarities = ranking[researcher].to_list()\n",
    "    id_calls = pd.DataFrame({'Call': id_calls, 'similarity': similarities})\n",
    "    df_ranking_calls = pd.merge(id_calls, df_calls, on='Call', how='inner')\n",
    "\n",
    "    return df_ranking_calls.head(n)\n",
    "\n",
    "def recommendation_system(method, agg_method, researcher, calls, n=1129,\n",
    "                         path='/export/usuarios_ml4ds/mbalairon/github/recommendation_system/similarity_matrices_researchers/similarity_{}_{}.parquet'):\n",
    "    '''\n",
    "    function for obtaining the recommendations\n",
    "    \n",
    "    path -> Path to the file containing the similarity matrix\n",
    "    method -> Method selected to calculate the similarities \n",
    "    agg_method -> Agregation method selected for calculating the similarties between calls and researchers\n",
    "    '''\n",
    "    \n",
    "    similarities = pd.read_parquet(path.format(method, agg_method))\n",
    "    ranking = match(similarities, researcher, calls, n)\n",
    "    return ranking[['Call', 'Work Programme', 'similarity']]"
   ]
  },
  {
   "cell_type": "code",
   "execution_count": 24,
   "id": "9ee3ecc8-8e7c-462a-8a84-680f75c8eb2f",
   "metadata": {
    "tags": []
   },
   "outputs": [
    {
     "data": {
      "text/html": [
       "<div>\n",
       "<style scoped>\n",
       "    .dataframe tbody tr th:only-of-type {\n",
       "        vertical-align: middle;\n",
       "    }\n",
       "\n",
       "    .dataframe tbody tr th {\n",
       "        vertical-align: top;\n",
       "    }\n",
       "\n",
       "    .dataframe thead th {\n",
       "        text-align: right;\n",
       "    }\n",
       "</style>\n",
       "<table border=\"1\" class=\"dataframe\">\n",
       "  <thead>\n",
       "    <tr style=\"text-align: right;\">\n",
       "      <th></th>\n",
       "      <th>Call</th>\n",
       "      <th>Work Programme</th>\n",
       "      <th>similarity</th>\n",
       "    </tr>\n",
       "  </thead>\n",
       "  <tbody>\n",
       "    <tr>\n",
       "      <th>0</th>\n",
       "      <td>HORIZON-HLTH-2023-DISEASE-03-17</td>\n",
       "      <td>health</td>\n",
       "      <td>0.239693</td>\n",
       "    </tr>\n",
       "  </tbody>\n",
       "</table>\n",
       "</div>"
      ],
      "text/plain": [
       "                              Call Work Programme  similarity\n",
       "0  HORIZON-HLTH-2023-DISEASE-03-17         health    0.239693"
      ]
     },
     "execution_count": 24,
     "metadata": {},
     "output_type": "execute_result"
    }
   ],
   "source": [
    "ranking = recommendation_system(method='tfidf', agg_method='mean_imp', researcher='inv43190', calls=df_calls)\n",
    "ranking.head(1)"
   ]
  },
  {
   "cell_type": "code",
   "execution_count": 39,
   "id": "7f3ea91f-247d-4aa7-9478-859c0675b0c5",
   "metadata": {
    "tags": []
   },
   "outputs": [
    {
     "data": {
      "text/html": [
       "<div>\n",
       "<style scoped>\n",
       "    .dataframe tbody tr th:only-of-type {\n",
       "        vertical-align: middle;\n",
       "    }\n",
       "\n",
       "    .dataframe tbody tr th {\n",
       "        vertical-align: top;\n",
       "    }\n",
       "\n",
       "    .dataframe thead th {\n",
       "        text-align: right;\n",
       "    }\n",
       "</style>\n",
       "<table border=\"1\" class=\"dataframe\">\n",
       "  <thead>\n",
       "    <tr style=\"text-align: right;\">\n",
       "      <th></th>\n",
       "      <th>invID</th>\n",
       "      <th>Name</th>\n",
       "      <th>Email</th>\n",
       "      <th>Category</th>\n",
       "      <th>ORCID</th>\n",
       "      <th>Scopus</th>\n",
       "      <th>Department</th>\n",
       "      <th>Research Group</th>\n",
       "      <th>Subjects</th>\n",
       "      <th>no Publis</th>\n",
       "      <th>Projects IP</th>\n",
       "      <th>Projects no IP</th>\n",
       "      <th>Nombre y Apellidos IP</th>\n",
       "    </tr>\n",
       "  </thead>\n",
       "  <tbody>\n",
       "    <tr>\n",
       "      <th>804</th>\n",
       "      <td>inv49042</td>\n",
       "      <td>Sanchez Macian Perez, Alfonso Alejandro</td>\n",
       "      <td>alfonsan@it.uc3m.es</td>\n",
       "      <td>Associate Professor</td>\n",
       "      <td>0000-0002-2220-0594</td>\n",
       "      <td>23398740500</td>\n",
       "      <td>Telematic Engineering</td>\n",
       "      <td>Microeconomics and Industrial Organization</td>\n",
       "      <td>None</td>\n",
       "      <td>0</td>\n",
       "      <td>1</td>\n",
       "      <td>4</td>\n",
       "      <td>Alfonso Alejandro Sanchez Macian Perez</td>\n",
       "    </tr>\n",
       "  </tbody>\n",
       "</table>\n",
       "</div>"
      ],
      "text/plain": [
       "        invID                                     Name                Email  \\\n",
       "804  inv49042  Sanchez Macian Perez, Alfonso Alejandro  alfonsan@it.uc3m.es   \n",
       "\n",
       "                Category                ORCID       Scopus  \\\n",
       "804  Associate Professor  0000-0002-2220-0594  23398740500   \n",
       "\n",
       "                Department                              Research Group  \\\n",
       "804  Telematic Engineering  Microeconomics and Industrial Organization   \n",
       "\n",
       "    Subjects  no Publis  Projects IP  Projects no IP  \\\n",
       "804     None          0            1               4   \n",
       "\n",
       "                      Nombre y Apellidos IP  \n",
       "804  Alfonso Alejandro Sanchez Macian Perez  "
      ]
     },
     "execution_count": 39,
     "metadata": {},
     "output_type": "execute_result"
    }
   ],
   "source": [
    "df_researchers[df_researchers['invID']=='inv49042'].head()"
   ]
  },
  {
   "cell_type": "code",
   "execution_count": 29,
   "id": "e41eda0e-cda5-402a-9ccb-fe14a1a0ffec",
   "metadata": {
    "tags": []
   },
   "outputs": [],
   "source": [
    "def invertir_nombre_apellido(full_name):\n",
    "    apellido, nombre = full_name.split(', ')\n",
    "    return nombre + ' ' + apellido\n",
    "\n",
    "# Aplica la función a la columna 'name' del DataFrame\n",
    "df_researchers['Nombre y Apellidos IP'] = df_researchers['Name'].apply(invertir_nombre_apellido)\n",
    "\n"
   ]
  },
  {
   "cell_type": "code",
   "execution_count": 47,
   "id": "a4a9ad12-0124-45a7-8a7b-b1dbb205376a",
   "metadata": {
    "tags": []
   },
   "outputs": [
    {
     "data": {
      "text/plain": [
       "True"
      ]
     },
     "execution_count": 47,
     "metadata": {},
     "output_type": "execute_result"
    }
   ],
   "source": [
    "'Alfonso Sanchez' in 'Alfonso Alejandro Sanchez Macian Perez'"
   ]
  },
  {
   "cell_type": "code",
   "execution_count": 45,
   "id": "84d14ae0-594f-4b9a-9fe4-c7219dd1ee80",
   "metadata": {
    "tags": []
   },
   "outputs": [
    {
     "data": {
      "text/html": [
       "<div>\n",
       "<style scoped>\n",
       "    .dataframe tbody tr th:only-of-type {\n",
       "        vertical-align: middle;\n",
       "    }\n",
       "\n",
       "    .dataframe tbody tr th {\n",
       "        vertical-align: top;\n",
       "    }\n",
       "\n",
       "    .dataframe thead th {\n",
       "        text-align: right;\n",
       "    }\n",
       "</style>\n",
       "<table border=\"1\" class=\"dataframe\">\n",
       "  <thead>\n",
       "    <tr style=\"text-align: right;\">\n",
       "      <th></th>\n",
       "      <th>Año Fecha Fin Convocatoria</th>\n",
       "      <th>Área</th>\n",
       "      <th>Nombre y Apellidos IP</th>\n",
       "      <th>Departamento</th>\n",
       "      <th>Acrónimo</th>\n",
       "      <th>Línea prioritia/panel/topic</th>\n",
       "      <th>ESTADO</th>\n",
       "      <th>invID</th>\n",
       "    </tr>\n",
       "  </thead>\n",
       "  <tbody>\n",
       "    <tr>\n",
       "      <th>0</th>\n",
       "      <td>2023</td>\n",
       "      <td>Cluster 5. Clima, energia y movilidad</td>\n",
       "      <td>Rauno Cavallaro</td>\n",
       "      <td>Aeroespacial</td>\n",
       "      <td>MISSION</td>\n",
       "      <td>HORIZON-CL5-2023-D5-01-09</td>\n",
       "      <td>DENEGADA</td>\n",
       "      <td>inv44624</td>\n",
       "    </tr>\n",
       "    <tr>\n",
       "      <th>1</th>\n",
       "      <td>2024</td>\n",
       "      <td>Cluster 5. Clima, energia y movilidad</td>\n",
       "      <td>Rauno Cavallaro</td>\n",
       "      <td>Aeroespacial</td>\n",
       "      <td>CORRECT-NOX</td>\n",
       "      <td>HORIZON-CL5-2024-D5-01-07</td>\n",
       "      <td>PREPARACIÓN</td>\n",
       "      <td>inv44624</td>\n",
       "    </tr>\n",
       "    <tr>\n",
       "      <th>2</th>\n",
       "      <td>2023</td>\n",
       "      <td>Cluster 5. Clima, energia y movilidad</td>\n",
       "      <td>Marco Raiola</td>\n",
       "      <td>Aeroespacial</td>\n",
       "      <td>SURF</td>\n",
       "      <td>HORIZON-CL5-2023-D3-01-05</td>\n",
       "      <td>DENEGADA</td>\n",
       "      <td>inv43379</td>\n",
       "    </tr>\n",
       "    <tr>\n",
       "      <th>3</th>\n",
       "      <td>2023</td>\n",
       "      <td>Cluster 5. Clima, energia y movilidad</td>\n",
       "      <td>Andrea Cini</td>\n",
       "      <td>Aeroespacial</td>\n",
       "      <td>QSAVED</td>\n",
       "      <td>HORIZON-CL5-2023-D6-01-11</td>\n",
       "      <td>DENEGADA</td>\n",
       "      <td>inv46956</td>\n",
       "    </tr>\n",
       "    <tr>\n",
       "      <th>4</th>\n",
       "      <td>2024</td>\n",
       "      <td>Cluster 4. Mundo digital, industria y espacio</td>\n",
       "      <td>Antonio Soria Verdugo</td>\n",
       "      <td>Ingeniería Térmica y de Fluidos</td>\n",
       "      <td>HILARIOUS</td>\n",
       "      <td>HORIZON-CL4-2024-TWIN-TRANSITION-01-46</td>\n",
       "      <td>PRESENTADA</td>\n",
       "      <td>inv37839</td>\n",
       "    </tr>\n",
       "  </tbody>\n",
       "</table>\n",
       "</div>"
      ],
      "text/plain": [
       "   Año Fecha Fin Convocatoria                                           Área  \\\n",
       "0                        2023          Cluster 5. Clima, energia y movilidad   \n",
       "1                        2024          Cluster 5. Clima, energia y movilidad   \n",
       "2                        2023          Cluster 5. Clima, energia y movilidad   \n",
       "3                        2023          Cluster 5. Clima, energia y movilidad   \n",
       "4                        2024  Cluster 4. Mundo digital, industria y espacio   \n",
       "\n",
       "   Nombre y Apellidos IP                     Departamento     Acrónimo  \\\n",
       "0        Rauno Cavallaro                     Aeroespacial      MISSION   \n",
       "1        Rauno Cavallaro                     Aeroespacial  CORRECT-NOX   \n",
       "2           Marco Raiola                     Aeroespacial         SURF   \n",
       "3            Andrea Cini                     Aeroespacial       QSAVED   \n",
       "4  Antonio Soria Verdugo  Ingeniería Térmica y de Fluidos    HILARIOUS   \n",
       "\n",
       "              Línea prioritia/panel/topic       ESTADO     invID  \n",
       "0               HORIZON-CL5-2023-D5-01-09     DENEGADA  inv44624  \n",
       "1               HORIZON-CL5-2024-D5-01-07  PREPARACIÓN  inv44624  \n",
       "2               HORIZON-CL5-2023-D3-01-05     DENEGADA  inv43379  \n",
       "3               HORIZON-CL5-2023-D6-01-11     DENEGADA  inv46956  \n",
       "4  HORIZON-CL4-2024-TWIN-TRANSITION-01-46   PRESENTADA  inv37839  "
      ]
     },
     "execution_count": 45,
     "metadata": {},
     "output_type": "execute_result"
    }
   ],
   "source": [
    "prueba = df_val.merge(df_researchers[['Nombre y Apellidos IP', 'invID']], on='Nombre y Apellidos IP')\n",
    "prueba"
   ]
  },
  {
   "cell_type": "code",
   "execution_count": 32,
   "id": "6a37b822-201f-43fa-a6c9-e6351b0c4604",
   "metadata": {
    "tags": []
   },
   "outputs": [
    {
     "data": {
      "text/plain": [
       "(51, 7)"
      ]
     },
     "execution_count": 32,
     "metadata": {},
     "output_type": "execute_result"
    }
   ],
   "source": [
    "df_val.shape"
   ]
  },
  {
   "cell_type": "code",
   "execution_count": 35,
   "id": "eb13c2d8-0d78-49d7-b6c4-5027b913d8b6",
   "metadata": {
    "tags": []
   },
   "outputs": [
    {
     "data": {
      "text/html": [
       "<div>\n",
       "<style scoped>\n",
       "    .dataframe tbody tr th:only-of-type {\n",
       "        vertical-align: middle;\n",
       "    }\n",
       "\n",
       "    .dataframe tbody tr th {\n",
       "        vertical-align: top;\n",
       "    }\n",
       "\n",
       "    .dataframe thead th {\n",
       "        text-align: right;\n",
       "    }\n",
       "</style>\n",
       "<table border=\"1\" class=\"dataframe\">\n",
       "  <thead>\n",
       "    <tr style=\"text-align: right;\">\n",
       "      <th></th>\n",
       "      <th>Año Fecha Fin Convocatoria</th>\n",
       "      <th>Área</th>\n",
       "      <th>Nombre y Apellidos IP</th>\n",
       "      <th>Departamento</th>\n",
       "      <th>Acrónimo</th>\n",
       "      <th>Línea prioritia/panel/topic</th>\n",
       "      <th>ESTADO</th>\n",
       "    </tr>\n",
       "  </thead>\n",
       "  <tbody>\n",
       "    <tr>\n",
       "      <th>0</th>\n",
       "      <td>2023</td>\n",
       "      <td>Cluster 5. Clima, energia y movilidad</td>\n",
       "      <td>Rauno Cavallaro</td>\n",
       "      <td>Aeroespacial</td>\n",
       "      <td>MISSION</td>\n",
       "      <td>HORIZON-CL5-2023-D5-01-09</td>\n",
       "      <td>DENEGADA</td>\n",
       "    </tr>\n",
       "    <tr>\n",
       "      <th>1</th>\n",
       "      <td>2023</td>\n",
       "      <td>Cluster 5. Clima, energia y movilidad</td>\n",
       "      <td>Marco Raiola</td>\n",
       "      <td>Aeroespacial</td>\n",
       "      <td>SURF</td>\n",
       "      <td>HORIZON-CL5-2023-D3-01-05</td>\n",
       "      <td>DENEGADA</td>\n",
       "    </tr>\n",
       "    <tr>\n",
       "      <th>2</th>\n",
       "      <td>2023</td>\n",
       "      <td>Cluster 4. Mundo digital, industria y espacio</td>\n",
       "      <td>Alfonso Sanchez Mecian</td>\n",
       "      <td>Ingeniería Telemática</td>\n",
       "      <td>CiTrusVerse</td>\n",
       "      <td>HORIZON-CL4-2023-HUMAN-01-05</td>\n",
       "      <td>DENEGADA</td>\n",
       "    </tr>\n",
       "    <tr>\n",
       "      <th>3</th>\n",
       "      <td>2023</td>\n",
       "      <td>Cluster 4. Mundo digital, industria y espacio</td>\n",
       "      <td>Fernando Garcia</td>\n",
       "      <td>Ingeniería de Sistemas y Automática</td>\n",
       "      <td>PLIADES</td>\n",
       "      <td>HORIZON-CL4-2023-DATA-01-02</td>\n",
       "      <td>APROBADA</td>\n",
       "    </tr>\n",
       "    <tr>\n",
       "      <th>4</th>\n",
       "      <td>2023</td>\n",
       "      <td>Cluster 4. Mundo digital, industria y espacio</td>\n",
       "      <td>Abdulla Al Kaff</td>\n",
       "      <td>Ingeniería de Sistemas y Automática</td>\n",
       "      <td>CORAL</td>\n",
       "      <td>HORIZON-CL4-2023-DIGITAL-EMERGING-01-01</td>\n",
       "      <td>DENEGADA</td>\n",
       "    </tr>\n",
       "  </tbody>\n",
       "</table>\n",
       "</div>"
      ],
      "text/plain": [
       "   Año Fecha Fin Convocatoria                                           Área  \\\n",
       "0                        2023          Cluster 5. Clima, energia y movilidad   \n",
       "1                        2023          Cluster 5. Clima, energia y movilidad   \n",
       "2                        2023  Cluster 4. Mundo digital, industria y espacio   \n",
       "3                        2023  Cluster 4. Mundo digital, industria y espacio   \n",
       "4                        2023  Cluster 4. Mundo digital, industria y espacio   \n",
       "\n",
       "    Nombre y Apellidos IP                         Departamento     Acrónimo  \\\n",
       "0         Rauno Cavallaro                         Aeroespacial      MISSION   \n",
       "1            Marco Raiola                         Aeroespacial         SURF   \n",
       "2  Alfonso Sanchez Mecian                Ingeniería Telemática  CiTrusVerse   \n",
       "3         Fernando Garcia  Ingeniería de Sistemas y Automática      PLIADES   \n",
       "4         Abdulla Al Kaff  Ingeniería de Sistemas y Automática        CORAL   \n",
       "\n",
       "               Línea prioritia/panel/topic    ESTADO  \n",
       "0                HORIZON-CL5-2023-D5-01-09  DENEGADA  \n",
       "1                HORIZON-CL5-2023-D3-01-05  DENEGADA  \n",
       "2             HORIZON-CL4-2023-HUMAN-01-05  DENEGADA  \n",
       "3              HORIZON-CL4-2023-DATA-01-02  APROBADA  \n",
       "4  HORIZON-CL4-2023-DIGITAL-EMERGING-01-01  DENEGADA  "
      ]
     },
     "execution_count": 35,
     "metadata": {},
     "output_type": "execute_result"
    }
   ],
   "source": [
    "df_val.head()"
   ]
  }
 ],
 "metadata": {
  "kernelspec": {
   "display_name": "Python 3 (ipykernel)",
   "language": "python",
   "name": "python3"
  },
  "language_info": {
   "codemirror_mode": {
    "name": "ipython",
    "version": 3
   },
   "file_extension": ".py",
   "mimetype": "text/x-python",
   "name": "python",
   "nbconvert_exporter": "python",
   "pygments_lexer": "ipython3",
   "version": "3.10.11"
  }
 },
 "nbformat": 4,
 "nbformat_minor": 5
}
