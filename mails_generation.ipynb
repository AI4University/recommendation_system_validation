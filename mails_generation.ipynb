{
 "cells": [
  {
   "cell_type": "code",
   "execution_count": 54,
   "id": "52c98946-8ddc-4382-a7b5-6aaaa74b7ca2",
   "metadata": {
    "tags": []
   },
   "outputs": [],
   "source": [
    "import yagmail\n",
    "import pandas as pd\n",
    "from funciones_recommendation_system import get_datasets, match_researcher_call, recommendation_system_researcher_call, match_call_researcher, recommendation_system_call_researcher"
   ]
  },
  {
   "cell_type": "code",
   "execution_count": 63,
   "id": "56f88587-249c-497f-a2c9-2e6f83b3d677",
   "metadata": {
    "tags": []
   },
   "outputs": [
    {
     "name": "stderr",
     "output_type": "stream",
     "text": [
      "/home/mbalairon/.local/lib/python3.10/site-packages/openpyxl/worksheet/_reader.py:329: UserWarning: Data Validation extension is not supported and will be removed\n",
      "  warn(msg)\n"
     ]
    }
   ],
   "source": [
    "# load databases\n",
    "path = '/export/data_ml4ds/AI4U/Datasets/'\n",
    "version_wp = '20240510'\n",
    "version_rp = '20240321'\n",
    "df_publications, df_projects, df_publications_researchers,df_projects_researchers, df_researchers, df_calls = get_datasets(path, version_wp, version_rp)\n",
    "\n",
    "# load the validation set\n",
    "df_val = pd.read_excel('/export/usuarios_ml4ds/mafuello/Github/recommendation_system_validation/validation_set.xlsx')\n",
    "df_val = df_val.rename(columns={'research portal': 'invID'})\n",
    "df_val = df_val.rename(columns={'invID': 'id_RP'}).merge(df_researchers[['id_RP', 'id_researcher']], on='id_RP')\n",
    "df_val = df_val.drop_duplicates('id_RP')"
   ]
  },
  {
   "cell_type": "code",
   "execution_count": null,
   "id": "cc1dc609-d713-43ef-9652-5e9c3a2e1186",
   "metadata": {},
   "outputs": [],
   "source": [
    "def send_mail(origin_mail, password, mail_adress, subject, content):\n",
    "    '''\n",
    "    Function for sending mails automatically\n",
    "    \n",
    "    origin_mail -> Your e-mail adress\n",
    "    password -> application password \n",
    "    mail_adress -> Recipient e-mail adress\n",
    "    subject -> e-mail subject\n",
    "    content -> e-mail content\n",
    "    '''\n",
    "    \n",
    "    yag = yagmail.SMTP(origin_mail, password)\n",
    "    try:\n",
    "        yag.send(to=mail_adress, subject=subject, contents=content)\n",
    "        print(\"Correo enviado exitosamente a \", mail_adress)\n",
    "    except Exception as e:\n",
    "        print(f\"Error al enviar el correo: {e}\")"
   ]
  },
  {
   "cell_type": "code",
   "execution_count": 58,
   "id": "92268f31-dc89-4265-ae7f-a3b60867d627",
   "metadata": {
    "tags": []
   },
   "outputs": [],
   "source": [
    "df_eic = pd.read_parquet(path + 'work_programmes/20231001/EIC_work_programmes.parquet')\n",
    "df_horizon = pd.read_parquet(path +'work_programmes/{}/horizon_work_programmes.parquet'.format(version_wp))"
   ]
  },
  {
   "cell_type": "code",
   "execution_count": 65,
   "id": "198b62eb-2a77-4631-b8a9-bf33f073f7aa",
   "metadata": {
    "tags": []
   },
   "outputs": [
    {
     "data": {
      "text/plain": [
       "0          0\n",
       "1          1\n",
       "2          2\n",
       "3          3\n",
       "4          4\n",
       "        ... \n",
       "1434    1434\n",
       "1435    1435\n",
       "1436    1436\n",
       "1437    1437\n",
       "1438    1438\n",
       "Name: id_researcher, Length: 1439, dtype: int64"
      ]
     },
     "execution_count": 65,
     "metadata": {},
     "output_type": "execute_result"
    }
   ],
   "source": [
    "df_researchers['id_researcher']"
   ]
  },
  {
   "cell_type": "code",
   "execution_count": 53,
   "id": "1cd799bf-ae5b-4aa1-ab35-e5652d11550a",
   "metadata": {
    "tags": []
   },
   "outputs": [
    {
     "name": "stdout",
     "output_type": "stream",
     "text": [
      "Correo enviado exitosamente a  malmagro@pa.uc3m.es\n"
     ]
    }
   ],
   "source": [
    "origin_mail = 'mbalairo@pa.uc3m.es'\n",
    "password = 'ztbm nisu cats rnjk'\n",
    "subject = 'Pruebas 2'\n",
    "\n",
    "for i in df_val.head(1).index:\n",
    "    invID = df_val['id_researcher'][i]\n",
    "    name = df_val['Nombre y Apellidos IP'][i]\n",
    "    mail_adress = 'malmagro@pa.uc3m.es'\n",
    "    #mail_adress = df_val['email'][i]\n",
    "\n",
    "        \n",
    "    ranking_words = recommendation_system_researcher_call(method='BERT', agg_method='mean_imp', researcher=invID, calls=df_calls, n=3)\n",
    "    ranking_words = ranking_words[['Call']].merge(df_horizon, on='Call')[['Call', 'Work Programme', 'Title', 'Expected Outcome']]\n",
    "\n",
    "    ranking_topics = recommendation_system_researcher_call(method='separated', agg_method='mean_imp', researcher=invID, calls=df_calls, n=3)\n",
    "    ranking_topics = ranking_topics[['Call']].merge(df_horizon, on='Call')[['Call', 'Work Programme', 'Title', 'Expected Outcome']]    \n",
    "    \n",
    "    # Convertir ranking_words a una tabla HTML\n",
    "    ranking_words_html = \"\"\"\n",
    "    <table style=\"width: 100%; border-collapse: collapse; border: 1px solid black;\">\n",
    "        <tr>\n",
    "            <th style=\"border: 1px solid black; padding: 8px; text-align: center;\">ID</th>\n",
    "            <th style=\"border: 1px solid black; padding: 8px; text-align: center;\">Título</th>\n",
    "            <th style=\"border: 1px solid black; padding: 8px; text-align: center;\">Cluster</th>\n",
    "            <th style=\"border: 1px solid black; padding: 8px; text-align: center;\">Expected Outcome</th>\n",
    "        </tr>\n",
    "    \"\"\"\n",
    "    for idx, row in ranking_words.iterrows():\n",
    "        ranking_words_html += f\"\"\"\n",
    "        <tr>\n",
    "            <td style=\"border: 1px solid black; padding: 8px; text-align: center;\">{row['Call']}</td>\n",
    "            <td style=\"border: 1px solid black; padding: 8px;\">{row['Title']}</td>\n",
    "            <td style=\"border: 1px solid black; padding: 8px; text-align: center;\">{row['Work Programme']}</td>\n",
    "            <td style=\"border: 1px solid black; padding: 8px;\">{row['Expected Outcome']}</td>\n",
    "        </tr>\n",
    "        \"\"\"\n",
    "    ranking_words_html += \"</table>\"\n",
    "\n",
    "    # Convertir ranking_topics a una tabla HTML\n",
    "    ranking_topics_html = \"\"\"\n",
    "    <table style=\"width: 100%; border-collapse: collapse; border: 1px solid black;\">\n",
    "        <tr>\n",
    "            <th style=\"border: 1px solid black; padding: 8px; text-align: center;\">ID</th>\n",
    "            <th style=\"border: 1px solid black; padding: 8px; text-align: center;\">Título</th>\n",
    "            <th style=\"border: 1px solid black; padding: 8px; text-align: center;\">Cluster</th>\n",
    "            <th style=\"border: 1px solid black; padding: 8px; text-align: center;\">Expected Outcome</th>\n",
    "        </tr>\n",
    "    \"\"\"\n",
    "    for idx, row in ranking_topics.iterrows():\n",
    "        ranking_topics_html += f\"\"\"\n",
    "        <tr>\n",
    "            <td style=\"border: 1px solid black; padding: 8px; text-align: center;\">{row['Call']}</td>\n",
    "            <td style=\"border: 1px solid black; padding: 8px;\">{row['Title']}</td>\n",
    "            <td style=\"border: 1px solid black; padding: 8px; text-align: center;\">{row['Work Programme']}</td>\n",
    "            <td style=\"border: 1px solid black; padding: 8px;\">{row['Expected Outcome']}</td>\n",
    "        </tr>\n",
    "        \"\"\"\n",
    "    ranking_topics_html += \"</table>\"\n",
    "    \n",
    "    content = f\"\"\"\n",
    "    <html>\n",
    "    <body style=\"font-family: Arial, sans-serif;\">\n",
    "        <p style=\"margin-bottom: 0.5px;\">Buenos días {name},</p>\n",
    "        <p style=\"margin-bottom: 0.5px;\">INTRODUCCIÓN:</p>\n",
    "        <p style=\"margin-bottom: 0.5px;\">Estos son los resultados de las recomendaciones:</p>\n",
    "        \n",
    "        <strong><p style=\"margin-bottom: 0.5px;\">Ranking basado en las palabras de sus publicaciones:</p></strong>\n",
    "        {ranking_words_html}\n",
    "        \n",
    "        <strong><p style=\"margin-bottom: 0.5px;\">Ranking basado en las temáticas de sus publicaciones:</p></strong>\n",
    "        {ranking_topics_html}\n",
    "        \n",
    "        <p style=\"margin-top: 0.5px;\">Saludos,</p>\n",
    "        <p>Equipo de Investigación</p>\n",
    "    </body>\n",
    "    </html>\n",
    "    \"\"\"\n",
    "    \n",
    "    send_mail(origin_mail, password, mail_adress, subject, content)"
   ]
  }
 ],
 "metadata": {
  "kernelspec": {
   "display_name": "Python 3 (ipykernel)",
   "language": "python",
   "name": "python3"
  },
  "language_info": {
   "codemirror_mode": {
    "name": "ipython",
    "version": 3
   },
   "file_extension": ".py",
   "mimetype": "text/x-python",
   "name": "python",
   "nbconvert_exporter": "python",
   "pygments_lexer": "ipython3",
   "version": "3.10.11"
  }
 },
 "nbformat": 4,
 "nbformat_minor": 5
}
