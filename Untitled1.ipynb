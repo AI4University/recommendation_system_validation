{
 "cells": [
  {
   "cell_type": "code",
   "execution_count": 4,
   "id": "4502daab-8a07-45a3-a39d-546f42ed340b",
   "metadata": {
    "tags": []
   },
   "outputs": [
    {
     "ename": "ModuleNotFoundError",
     "evalue": "No module named 'funciones_recommendation_system'",
     "output_type": "error",
     "traceback": [
      "\u001b[0;31m---------------------------------------------------------------------------\u001b[0m",
      "\u001b[0;31mModuleNotFoundError\u001b[0m                       Traceback (most recent call last)",
      "Cell \u001b[0;32mIn[4], line 6\u001b[0m\n\u001b[1;32m      3\u001b[0m \u001b[38;5;28;01mfrom\u001b[39;00m \u001b[38;5;21;01mmatplotlib\u001b[39;00m \u001b[38;5;28;01mimport\u001b[39;00m pyplot \u001b[38;5;28;01mas\u001b[39;00m plt\n\u001b[1;32m      4\u001b[0m \u001b[38;5;28;01mfrom\u001b[39;00m \u001b[38;5;21;01mtqdm\u001b[39;00m \u001b[38;5;28;01mimport\u001b[39;00m tqdm\n\u001b[0;32m----> 6\u001b[0m \u001b[38;5;28;01mfrom\u001b[39;00m \u001b[38;5;21;01mfunciones_recommendation_system\u001b[39;00m \u001b[38;5;28;01mimport\u001b[39;00m get_datasets, match_researcher_call, recommendation_system_researcher_call, match_call_researcher, recommendation_system_call_researcher\n",
      "\u001b[0;31mModuleNotFoundError\u001b[0m: No module named 'funciones_recommendation_system'"
     ]
    }
   ],
   "source": [
    "import pandas as pd\n",
    "import numpy as np\n",
    "from matplotlib import pyplot as plt\n",
    "from tqdm import tqdm\n",
    "\n",
    "from funciones_recommendation_system import get_datasets, match_researcher_call, recommendation_system_researcher_call, match_call_researcher, recommendation_system_call_researcher"
   ]
  },
  {
   "cell_type": "code",
   "execution_count": null,
   "id": "50ad7dc2-7038-40ec-816a-c07854bb0960",
   "metadata": {},
   "outputs": [],
   "source": [
    "# load databases\n",
    "path = '/export/data_ml4ds/AI4U/Datasets/'\n",
    "version_wp = '20240510'\n",
    "version_rp = '20240321'\n",
    "df_publications, df_projects, df_publications_researchers,df_projects_researchers, df_researchers, df_calls = get_datasets(path, version_wp, version_rp)\n",
    "\n",
    "# load the validation set\n",
    "df_val = pd.read_excel('/export/usuarios_ml4ds/mafuello/Github/recommendation_system_validation/validation_set.xlsx')\n",
    "df_val = df_val.rename(columns={'research portal': 'invID'})\n",
    "df_val = df_val.rename(columns={'invID': 'id_RP'}).merge(df_researchers[['id_RP', 'id_researcher']], on='id_RP')"
   ]
  },
  {
   "cell_type": "code",
   "execution_count": null,
   "id": "06b89e94-0a00-4e5d-b0e8-339610e2591b",
   "metadata": {},
   "outputs": [],
   "source": [
    "for researcher in researchers:\n",
    "    "
   ]
  }
 ],
 "metadata": {
  "kernelspec": {
   "display_name": "Python 3 (ipykernel)",
   "language": "python",
   "name": "python3"
  },
  "language_info": {
   "codemirror_mode": {
    "name": "ipython",
    "version": 3
   },
   "file_extension": ".py",
   "mimetype": "text/x-python",
   "name": "python",
   "nbconvert_exporter": "python",
   "pygments_lexer": "ipython3",
   "version": "3.10.11"
  }
 },
 "nbformat": 4,
 "nbformat_minor": 5
}
