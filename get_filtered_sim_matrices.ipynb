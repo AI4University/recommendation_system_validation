{
 "cells": [
  {
   "cell_type": "code",
   "execution_count": 32,
   "id": "d17c02c8-23f5-4be4-a6ad-5212a7b495df",
   "metadata": {
    "tags": []
   },
   "outputs": [],
   "source": [
    "import pandas as pd\n",
    "from funciones_recommendation_system import *\n",
    "from funciones_filters_recommendation_system import *\n",
    "from funciones_match import *\n",
    "from funciones_plot_validation import *"
   ]
  },
  {
   "cell_type": "code",
   "execution_count": 33,
   "id": "79368047-d9a4-48ed-b7c3-35b75f943e0e",
   "metadata": {
    "tags": []
   },
   "outputs": [],
   "source": [
    "def convert_to_str(val):\n",
    "    if isinstance(val, float):\n",
    "        return str(int(val))  # Elimina el .0 convirtiendo a int primero\n",
    "    return str(val)  # Deja los strings como están"
   ]
  },
  {
   "cell_type": "code",
   "execution_count": 34,
   "id": "c8aa310e-41c9-4004-8742-59b10fe5004a",
   "metadata": {
    "tags": []
   },
   "outputs": [],
   "source": [
    "path = '/export/data_ml4ds/AI4U/Datasets/'\n",
    "path_sim_matrices = '/export/data_ml4ds/AI4U/Datasets/similarity_matrices/publications/{}_sim_matrix.parquet'\n",
    "\n",
    "version_wp = '20240510'\n",
    "version_rp = '20240321'\n",
    "\n",
    "agg_methods = ['sum', 'mean', 'mean_imp']\n",
    "methods = ['BERT', 'bhattacharyya', 'separated', 'semiseparated']\n",
    "thresholds = {'BERT':0.3, 'bhattacharyya':0.1, 'separated':0.05, 'semiseparated':0.05}\n",
    "\n",
    "df_publications, df_projects, df_publications_researchers, df_projects_researchers, df_researchers, df_calls = get_datasets(path, version_wp, version_rp)\n",
    "df_project_publication_researcher = pd.concat([df_publications_researchers[['id_paper', 'id_researcher']], df_projects_researchers[['actID', 'id_researcher']].rename(columns={'actID':'id_paper'})], ignore_index=True)\n",
    "df_project_publication_researcher['id_paper'] = df_project_publication_researcher['id_paper'].apply(convert_to_str)\n",
    "df_project_publication_researcher['id_researcher'] = df_project_publication_researcher['id_researcher'].astype(str)\n",
    "\n",
    "df_val = pd.read_excel('/export/usuarios_ml4ds/mafuello/Github/recommendation_system_validation/validation_set.xlsx')\n",
    "df_val['id_researcher'] = df_val['id_researcher'].astype(str)"
   ]
  },
  {
   "cell_type": "code",
   "execution_count": 35,
   "id": "f2d05efe-8285-45d2-9740-9eca86aeff34",
   "metadata": {
    "tags": []
   },
   "outputs": [],
   "source": [
    "path_sim_matrices = '/export/data_ml4ds/AI4U/Datasets/similarity_matrices/publications/{}_sim_matrix.parquet'\n",
    "path_save = '/export/data_ml4ds/AI4U/Datasets/similarity_matrices/researchers_filtered_{}/similarity_{}_{}.parquet'"
   ]
  },
  {
   "cell_type": "code",
   "execution_count": 41,
   "id": "f61178e6-cb0e-449d-93c7-798a2046b83a",
   "metadata": {
    "tags": []
   },
   "outputs": [
    {
     "name": "stderr",
     "output_type": "stream",
     "text": [
      "Processing researchers IDs: 100%|██████████| 528/528 [00:58<00:00,  8.96 id_RP/s]\n",
      "Processing researchers IDs: 100%|██████████| 528/528 [00:58<00:00,  8.96 id_RP/s]\n",
      "Processing researchers IDs: 100%|██████████| 528/528 [00:59<00:00,  8.92 id_RP/s]\n",
      "Processing researchers IDs: 100%|██████████| 528/528 [00:59<00:00,  8.90 id_RP/s]\n"
     ]
    }
   ],
   "source": [
    "# filter number of publis\n",
    "methods = ['BERT', 'bhattacharyya', 'separated', 'semiseparated']\n",
    "for methods in methods:\n",
    "    sim_matrix_publis = pd.read_parquet(path_sim_matrices.format(method))\n",
    "    sim_matrix_publis = sim_matrix_publis.mask(sim_matrix_publis < thresholds[methods], 0)\n",
    "    \n",
    "    df_project_publication_researcher_filtered = filter_by_num_publis(39, df_project_publication_researcher, df_researchers)\n",
    "    similarity_researchers_sum = agg_sum(sim_matrix_publis, df_calls, df_project_publication_researcher_filtered, df_researchers)\n",
    "    similarity_researchers_mean = agg_mean(sim_matrix_publis, df_calls, df_project_publication_researcher_filtered, df_researchers)\n",
    "    similarity_researchers_mean_imp = agg_mean_imp(sim_matrix_publis, df_calls, df_project_publication_researcher_filtered, df_researchers)\n",
    "    \n",
    "    similarity_researchers_sum.to_parquet(path_save.format('num_publis', method, 'sum'))\n",
    "    similarity_researchers_mean.to_parquet(path_save.format('num_publis', method, 'mean'))\n",
    "    similarity_researchers_mean_imp.to_parquet(path_save.format('num_publis', method, 'mean_imp'))"
   ]
  },
  {
   "cell_type": "code",
   "execution_count": 39,
   "id": "b1bbf281-6487-4f19-a125-f61b702e26c2",
   "metadata": {
    "tags": []
   },
   "outputs": [
    {
     "name": "stderr",
     "output_type": "stream",
     "text": [
      "Processing researchers IDs: 100%|██████████| 490/490 [00:56<00:00,  8.69 id_RP/s]\n",
      "Processing researchers IDs: 100%|██████████| 490/490 [00:56<00:00,  8.63 id_RP/s]\n",
      "Processing researchers IDs: 100%|██████████| 490/490 [00:54<00:00,  8.95 id_RP/s]\n",
      "Processing researchers IDs: 100%|██████████| 490/490 [00:55<00:00,  8.85 id_RP/s]\n"
     ]
    }
   ],
   "source": [
    "# filter number of IPs\n",
    "methods = ['BERT', 'bhattacharyya', 'separated', 'semiseparated']\n",
    "for method in methods:\n",
    "    sim_matrix_publis = pd.read_parquet(path_sim_matrices.format(method))\n",
    "    sim_matrix_publis = sim_matrix_publis.mask(sim_matrix_publis < thresholds[method], 0)\n",
    "    \n",
    "    # filter number of publis\n",
    "    df_project_publication_researcher_filtered = filter_by_num_ip(3, df_project_publication_researcher, df_researchers)\n",
    "    similarity_researchers_sum = agg_sum(sim_matrix_publis, df_calls, df_project_publication_researcher_filtered, df_researchers)\n",
    "    similarity_researchers_mean = agg_mean(sim_matrix_publis, df_calls, df_project_publication_researcher_filtered, df_researchers)\n",
    "    similarity_researchers_mean_imp = agg_mean_imp(sim_matrix_publis, df_calls, df_project_publication_researcher_filtered, df_researchers)\n",
    "\n",
    "    similarity_researchers_sum.to_parquet(path_save.format('num_IP', method, 'sum'))\n",
    "    similarity_researchers_mean.to_parquet(path_save.format('num_IP', method, 'mean'))\n",
    "    similarity_researchers_mean_imp.to_parquet(path_save.format('num_IP', method, 'mean_imp'))"
   ]
  },
  {
   "cell_type": "code",
   "execution_count": 40,
   "id": "007a943e-2a3a-4778-b6f1-9c0d9d425727",
   "metadata": {
    "tags": []
   },
   "outputs": [
    {
     "name": "stderr",
     "output_type": "stream",
     "text": [
      "Processing researchers IDs: 100%|██████████| 350/350 [00:41<00:00,  8.51 id_RP/s]\n",
      "Processing researchers IDs: 100%|██████████| 350/350 [00:41<00:00,  8.45 id_RP/s]\n",
      "Processing researchers IDs: 100%|██████████| 350/350 [00:40<00:00,  8.68 id_RP/s]\n",
      "Processing researchers IDs: 100%|██████████| 350/350 [00:41<00:00,  8.47 id_RP/s]\n"
     ]
    }
   ],
   "source": [
    "# filter number of IPs and number of publis\n",
    "methods = ['BERT', 'bhattacharyya', 'separated', 'semiseparated']\n",
    "for method in methods:\n",
    "    sim_matrix_publis = pd.read_parquet(path_sim_matrices.format(method))\n",
    "    sim_matrix_publis = sim_matrix_publis.mask(sim_matrix_publis < thresholds[method], 0)\n",
    "\n",
    "    # filter number of publis\n",
    "    df_project_publication_researcher_filtered = filter_by_num_publis(39, df_project_publication_researcher, df_researchers)\n",
    "    df_project_publication_researcher_filtered = filter_by_num_ip(3, df_project_publication_researcher_filtered, df_researchers)\n",
    "    similarity_researchers_sum = agg_sum(sim_matrix_publis, df_calls, df_project_publication_researcher_filtered, df_researchers)\n",
    "    similarity_researchers_mean = agg_mean(sim_matrix_publis, df_calls, df_project_publication_researcher_filtered, df_researchers)\n",
    "    similarity_researchers_mean_imp = agg_mean_imp(sim_matrix_publis, df_calls, df_project_publication_researcher_filtered, df_researchers)\n",
    "\n",
    "    similarity_researchers_sum.to_parquet(path_save.format('combined', method, 'sum'))\n",
    "    similarity_researchers_mean.to_parquet(path_save.format('combined', method, 'mean'))\n",
    "    similarity_researchers_mean_imp.to_parquet(path_save.format('combined', method, 'mean_imp'))"
   ]
  }
 ],
 "metadata": {
  "kernelspec": {
   "display_name": "Python 3 (ipykernel)",
   "language": "python",
   "name": "python3"
  },
  "language_info": {
   "codemirror_mode": {
    "name": "ipython",
    "version": 3
   },
   "file_extension": ".py",
   "mimetype": "text/x-python",
   "name": "python",
   "nbconvert_exporter": "python",
   "pygments_lexer": "ipython3",
   "version": "3.10.11"
  }
 },
 "nbformat": 4,
 "nbformat_minor": 5
}
