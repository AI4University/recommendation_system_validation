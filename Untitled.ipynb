{
 "cells": [
  {
   "cell_type": "code",
   "execution_count": 2,
   "id": "f139d120-7b5e-4480-af5e-b686241db56e",
   "metadata": {
    "tags": []
   },
   "outputs": [],
   "source": [
    "import pandas as pd\n",
    "from funciones_recommendation_system import *\n",
    "from funciones_filters_recommendation_system import *\n",
    "from funciones_match import *\n",
    "from funciones_plot_validation import *"
   ]
  },
  {
   "cell_type": "code",
   "execution_count": 3,
   "id": "1affecf8-ed05-47e3-a1e5-67b2f7c985c9",
   "metadata": {
    "tags": []
   },
   "outputs": [],
   "source": [
    "def convert_to_str(val):\n",
    "    if isinstance(val, float):\n",
    "        return str(int(val))  # Elimina el .0 convirtiendo a int primero\n",
    "    return str(val)  # Deja los strings como están"
   ]
  },
  {
   "cell_type": "code",
   "execution_count": 4,
   "id": "4c4531c8-ea57-47fe-ac73-5c485fb2ed22",
   "metadata": {
    "tags": []
   },
   "outputs": [],
   "source": [
    "path = '/export/data_ml4ds/AI4U/Datasets/'\n",
    "path_sim_matrices = '/export/data_ml4ds/AI4U/Datasets/similarity_matrices/publications/{}_sim_matrix.parquet'\n",
    "\n",
    "version_wp = '20240510'\n",
    "version_rp = '20240321'\n",
    "\n",
    "agg_methods = ['sum', 'mean', 'mean_imp']\n",
    "methods = ['BERT', 'bhattacharyya', 'separated', 'semiseparated']\n",
    "\n",
    "df_publications, df_projects, df_publications_researchers, df_projects_researchers, df_researchers, df_calls = get_datasets(path, version_wp, version_rp)\n",
    "df_project_publication_researcher = pd.concat([df_publications_researchers[['id_paper', 'id_researcher']], df_projects_researchers[['actID', 'id_researcher']].rename(columns={'actID':'id_paper'})], ignore_index=True)\n",
    "df_project_publication_researcher['id_paper'] = df_project_publication_researcher['id_paper'].apply(convert_to_str)\n",
    "df_project_publication_researcher['id_researcher'] = df_project_publication_researcher['id_researcher'].astype(str)\n",
    "\n",
    "df_val = pd.read_excel('/export/usuarios_ml4ds/mafuello/Github/recommendation_system_validation/validation_set.xlsx')\n",
    "df_val['id_researcher'] = df_val['id_researcher'].astype(str)"
   ]
  },
  {
   "cell_type": "code",
   "execution_count": 6,
   "id": "8d46e7cd-27c8-4a77-aeb5-107ad58bba99",
   "metadata": {
    "tags": []
   },
   "outputs": [],
   "source": [
    "method = methods[0]\n",
    "num_publis = True\n",
    "num_IP = False\n",
    "combined = False"
   ]
  },
  {
   "cell_type": "code",
   "execution_count": 9,
   "id": "6ff14d63-de6a-43f4-aff1-46d9a703f478",
   "metadata": {
    "tags": []
   },
   "outputs": [],
   "source": [
    "scores_researchers, scores_calls, dict_results_researchers, dict_results_calls = get_dictionaries_compare_agg_methods(df_val, agg_methods, method, df_researchers, df_calls, df_project_publication_researcher, num_publis, num_IP, combined)"
   ]
  }
 ],
 "metadata": {
  "kernelspec": {
   "display_name": "Python 3 (ipykernel)",
   "language": "python",
   "name": "python3"
  },
  "language_info": {
   "codemirror_mode": {
    "name": "ipython",
    "version": 3
   },
   "file_extension": ".py",
   "mimetype": "text/x-python",
   "name": "python",
   "nbconvert_exporter": "python",
   "pygments_lexer": "ipython3",
   "version": "3.10.11"
  }
 },
 "nbformat": 4,
 "nbformat_minor": 5
}
