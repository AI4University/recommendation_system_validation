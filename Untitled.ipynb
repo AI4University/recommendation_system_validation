{
 "cells": [
  {
   "cell_type": "code",
   "execution_count": 131,
   "id": "d66a0f9f-8985-4db6-8ce2-1ef68ae3cea8",
   "metadata": {
    "tags": []
   },
   "outputs": [],
   "source": [
    "import pandas as pd"
   ]
  },
  {
   "cell_type": "code",
   "execution_count": 137,
   "id": "ed453fb9-f6ae-40af-8ae8-421d03c90b4f",
   "metadata": {
    "tags": []
   },
   "outputs": [],
   "source": [
    "path1 = '/export/data_ml4ds/AI4U/Datasets/similarity_matrices/researchers_filtered_num_publis/similarity_{}_{}.parquet'\n",
    "path2 = '/export/data_ml4ds/AI4U/Datasets/similarity_matrices/researchers_filtered_combined/similarity_{}_{}.parquet'"
   ]
  },
  {
   "cell_type": "code",
   "execution_count": 140,
   "id": "71ee46c6-20ab-4694-a3cd-344e8e670cd6",
   "metadata": {
    "tags": []
   },
   "outputs": [],
   "source": [
    "sim_mean = pd.read_parquet(path1.format('separated', 'mean'))\n",
    "sim_mean_imp =  pd.read_parquet(path2.format('separated', 'mean'))"
   ]
  },
  {
   "cell_type": "code",
   "execution_count": 141,
   "id": "aec26ed0-db25-48fc-a1d6-8d880d8047cf",
   "metadata": {
    "tags": []
   },
   "outputs": [
    {
     "data": {
      "text/plain": [
       "False"
      ]
     },
     "execution_count": 141,
     "metadata": {},
     "output_type": "execute_result"
    }
   ],
   "source": [
    "sim_mean.sort_index().equals(sim_mean_imp.sort_index())\n"
   ]
  },
  {
   "cell_type": "code",
   "execution_count": null,
   "id": "e71c64e4-f8d6-473e-90a7-8a6fdbc4d93b",
   "metadata": {},
   "outputs": [],
   "source": []
  },
  {
   "cell_type": "code",
   "execution_count": null,
   "id": "3e2fdc82-dc67-4d25-8842-19601a28cd19",
   "metadata": {},
   "outputs": [],
   "source": []
  },
  {
   "cell_type": "code",
   "execution_count": 79,
   "id": "a1bb2f42-a332-4f93-a8cb-15b23f64949b",
   "metadata": {
    "tags": []
   },
   "outputs": [],
   "source": [
    "import pandas as pd\n",
    "from funciones_recommendation_system import *\n",
    "from funciones_filters_recommendation_system import *\n",
    "from funciones_match import *\n",
    "from funciones_plot_validation import *"
   ]
  },
  {
   "cell_type": "code",
   "execution_count": 80,
   "id": "576a48cf-9dc4-4777-b37b-88ae085c2c0c",
   "metadata": {
    "tags": []
   },
   "outputs": [],
   "source": [
    "def convert_to_str(val):\n",
    "    if isinstance(val, float):\n",
    "        return str(int(val))  # Elimina el .0 convirtiendo a int primero\n",
    "    return str(val)  # Deja los strings como están"
   ]
  },
  {
   "cell_type": "code",
   "execution_count": 81,
   "id": "235bf5a1-a365-4fdd-bba5-c81250fe0136",
   "metadata": {
    "tags": []
   },
   "outputs": [],
   "source": [
    "path = '/export/data_ml4ds/AI4U/Datasets/'\n",
    "path_sim_matrices = '/export/data_ml4ds/AI4U/Datasets/similarity_matrices/publications/{}_sim_matrix.parquet'\n",
    "\n",
    "version_wp = '20240510'\n",
    "version_rp = '20240321'\n",
    "\n",
    "agg_methods = ['sum', 'mean', 'mean_imp']\n",
    "methods = ['BERT', 'bhattacharyya', 'separated', 'semiseparated']\n",
    "\n",
    "df_publications, df_projects, df_publications_researchers, df_projects_researchers, df_researchers, df_calls = get_datasets(path, version_wp, version_rp)\n",
    "df_project_publication_researcher = pd.concat([df_publications_researchers[['id_paper', 'id_researcher']], df_projects_researchers[['actID', 'id_researcher']].rename(columns={'actID':'id_paper'})], ignore_index=True)\n",
    "df_project_publication_researcher['id_paper'] = df_project_publication_researcher['id_paper'].apply(convert_to_str)\n",
    "df_project_publication_researcher['id_researcher'] = df_project_publication_researcher['id_researcher'].astype(str)\n",
    "\n",
    "df_val = pd.read_excel('/export/usuarios_ml4ds/mafuello/Github/recommendation_system_validation/validation_set.xlsx')\n",
    "df_val['id_researcher'] = df_val['id_researcher'].astype(str)"
   ]
  },
  {
   "cell_type": "code",
   "execution_count": 82,
   "id": "ad89015f-451c-4e31-967e-245723d99ab8",
   "metadata": {
    "tags": []
   },
   "outputs": [],
   "source": [
    "path_sim_matrices = '/export/data_ml4ds/AI4U/Datasets/similarity_matrices/publications/{}_sim_matrix.parquet'\n",
    "path_save = '/export/data_ml4ds/AI4U/Datasets/similarity_matrices/researchers_filtered_{}/similarity_{}_{}.parquet'"
   ]
  },
  {
   "cell_type": "code",
   "execution_count": 121,
   "id": "a92061b1-c7b0-4f59-9dcd-79533e3418e6",
   "metadata": {
    "tags": []
   },
   "outputs": [],
   "source": [
    "method = methods[0]\n",
    "sim_matrix = pd.read_parquet(path_sim_matrices.format(method))\n",
    "df_project_publication_researcher_filtered = filter_by_num_publis(39, df_project_publication_researcher, df_researchers)\n"
   ]
  },
  {
   "cell_type": "code",
   "execution_count": 122,
   "id": "97db7983-38a5-4b72-972b-60ef8c73b64c",
   "metadata": {
    "tags": []
   },
   "outputs": [
    {
     "data": {
      "text/plain": [
       "0"
      ]
     },
     "execution_count": 122,
     "metadata": {},
     "output_type": "execute_result"
    }
   ],
   "source": [
    "(sim_matrix == 0).sum().sum()"
   ]
  },
  {
   "cell_type": "code",
   "execution_count": 111,
   "id": "fbfd5fe5-7926-47ce-9b84-731ecad08495",
   "metadata": {
    "tags": []
   },
   "outputs": [],
   "source": [
    "# común a todas\n",
    "if [str(elemento) for elemento in df_calls['Call'].tolist()] != [str(elemento) for elemento in sim_matrix.columns.tolist()]:\n",
    "    column_order = [col for col in [str(elemento) for elemento in df_calls['Call'].tolist()] if col in sim_matrix.columns.tolist()]\n",
    "    sim_matrix = sim_matrix[column_order]\n",
    "\n",
    "    # elimino las calls que no aparecen en mi sim matrix del dataset con calls\n",
    "    df_calls['Call'] = df_calls['Call'].astype(str)\n",
    "    df_calls = df_calls[df_calls['Call'].isin(sim_matrix.columns.tolist())]  \n",
    "\n",
    "df = get_similarity_publication(sim_matrix)\n",
    "df = pd.merge(df_project_publication_researcher, df.rename(columns={'id':'id_paper'}), on='id_paper', how='inner')\n"
   ]
  },
  {
   "cell_type": "code",
   "execution_count": 118,
   "id": "a8f2f06a-72f0-446c-ad16-e9f56b2552b7",
   "metadata": {
    "tags": []
   },
   "outputs": [],
   "source": [
    "# agg_mean\n",
    "\n",
    "result_df = df.groupby('id_researcher')['similarity'].apply(lambda x: pd.Series(x.values.tolist()).mean()).reset_index()\n",
    "result_df=result_df.rename(columns= {'id_researcher':'id_RP'})\n",
    "sim_mean = check_shape(df_researchers, get_sim_matrix(df_calls, result_df))\n"
   ]
  },
  {
   "cell_type": "code",
   "execution_count": 119,
   "id": "ee66c3a5-d5dd-466d-8fc1-73b07d3f1663",
   "metadata": {
    "tags": []
   },
   "outputs": [
    {
     "name": "stderr",
     "output_type": "stream",
     "text": [
      "Processing researchers IDs: 100%|██████████| 1233/1233 [02:16<00:00,  9.02 id_RP/s]\n"
     ]
    }
   ],
   "source": [
    "# agg_mean_imp\n",
    "\n",
    "result_df = pd.DataFrame(columns=['id_RP', 'similarity'])\n",
    "invIDs = df['id_researcher'].unique()\n",
    "\n",
    "for invID in tqdm(invIDs, desc=\"Processing researchers IDs\", unit=\" id_RP\"):\n",
    "    df_researcher = df[df['id_researcher'] == invID]\n",
    "    df_vectores_sim = pd.DataFrame(df_researcher['similarity'].tolist())\n",
    "\n",
    "    suma_columnas = df_vectores_sim.sum()\n",
    "    non_zero = df_vectores_sim.apply(lambda col: col[col != 0].count())\n",
    "    mean_imp = (suma_columnas / non_zero).to_list()\n",
    "\n",
    "    row = pd.DataFrame(data=[[invID, mean_imp]], columns=['id_RP', 'similarity'])\n",
    "    result_df = pd.concat([result_df, row])\n",
    "    \n",
    "sim_mean_imp = check_shape(df_researchers, get_sim_matrix(df_calls, result_df))"
   ]
  },
  {
   "cell_type": "code",
   "execution_count": null,
   "id": "e4c60ac9-8762-46ba-8906-e0b4cc0cc1c2",
   "metadata": {},
   "outputs": [],
   "source": []
  },
  {
   "cell_type": "code",
   "execution_count": null,
   "id": "31322e1c-b195-40ed-9548-79b6cd2d4b7d",
   "metadata": {},
   "outputs": [],
   "source": [
    "similarity_researchers_mean = agg_mean(sim_matrix_publis, df_calls, df_project_publication_researcher_filtered, df_researchers)\n",
    "similarity_researchers_mean_imp = agg_mean_imp(sim_matrix_publis, df_calls, df_project_publication_researcher_filtered, df_researchers)"
   ]
  }
 ],
 "metadata": {
  "kernelspec": {
   "display_name": "Python 3 (ipykernel)",
   "language": "python",
   "name": "python3"
  },
  "language_info": {
   "codemirror_mode": {
    "name": "ipython",
    "version": 3
   },
   "file_extension": ".py",
   "mimetype": "text/x-python",
   "name": "python",
   "nbconvert_exporter": "python",
   "pygments_lexer": "ipython3",
   "version": "3.10.11"
  }
 },
 "nbformat": 4,
 "nbformat_minor": 5
}
