{
 "cells": [
  {
   "cell_type": "code",
   "execution_count": 1,
   "id": "142e99ef-fb8c-484f-8cca-5979e60b59f3",
   "metadata": {
    "tags": []
   },
   "outputs": [
    {
     "name": "stderr",
     "output_type": "stream",
     "text": [
      "/home/mbalairon/.local/lib/python3.10/site-packages/fuzzywuzzy/fuzz.py:11: UserWarning: Using slow pure-python SequenceMatcher. Install python-Levenshtein to remove this warning\n",
      "  warnings.warn('Using slow pure-python SequenceMatcher. Install python-Levenshtein to remove this warning')\n"
     ]
    }
   ],
   "source": [
    "import pandas as pd\n",
    "import numpy as np\n",
    "from fuzzywuzzy import process"
   ]
  },
  {
   "cell_type": "markdown",
   "id": "46956df1-53bc-4a2d-86ab-5395514bce54",
   "metadata": {},
   "source": [
    "# 1. Load datasets and Similarity matrices"
   ]
  },
  {
   "cell_type": "code",
   "execution_count": 3,
   "id": "3d10d412-c2f6-4a78-9c53-5bbbdf0b625f",
   "metadata": {
    "tags": []
   },
   "outputs": [
    {
     "name": "stderr",
     "output_type": "stream",
     "text": [
      "/home/mbalairon/.local/lib/python3.10/site-packages/openpyxl/worksheet/_reader.py:329: UserWarning: Data Validation extension is not supported and will be removed\n",
      "  warn(msg)\n"
     ]
    }
   ],
   "source": [
    "# load databases\n",
    "df_eic = pd.read_parquet('/export/data_ml4ds/AI4U/Datasets/work_programmes/EIC_work_programmes.parquet')\n",
    "df_horizon = pd.read_parquet('/export/data_ml4ds/AI4U/Datasets/work_programmes/horizon_work_programmes.parquet')\n",
    "\n",
    "df_publications = pd.read_parquet('/export/usuarios_ml4ds/mbalairon/github/recommendation_system/dataset/publications_topics.parquet')\n",
    "df_publications_researchers = pd.read_parquet('/export/usuarios_ml4ds/mbalairon/github/data_ingest/UC3M ResearchPortal/Outputs/researchers_publications.parquet')\n",
    "df_researchers = pd.read_parquet('/export/usuarios_ml4ds/mbalairon/github/data_ingest/UC3M ResearchPortal/Outputs/researchers.parquet')\n",
    "\n",
    "# join together al the calls (igual que cuando creamos las matrices de similitud)\n",
    "df_eic['Call'] = df_eic['id']\n",
    "df_calls = pd.concat([df_horizon[['Call', 'Work Programme']], df_eic[['Call', 'Work Programme']]], axis=0).reset_index(drop=True)\n",
    "\n",
    "# load the validation set\n",
    "df_val = pd.read_excel('/export/usuarios_ml4ds/mbalairon/github/recommendation_system_validation/validation_set.xlsx')"
   ]
  },
  {
   "cell_type": "code",
   "execution_count": 4,
   "id": "8766a93e-1a55-4315-86e6-8696d04633d7",
   "metadata": {
    "tags": []
   },
   "outputs": [],
   "source": [
    "# load similarity matrixs\n",
    "similarity_embeddings_mean_imp = pd.read_parquet('/export/usuarios_ml4ds/mbalairon/github/recommendation_system/similarity_matrices_researchers/similarity_embeddings_mean_imp.parquet')\n",
    "similarity_BERT_mean_imp = pd.read_parquet('/export/usuarios_ml4ds/mbalairon/github/recommendation_system/similarity_matrices_researchers/similarity_BERT_mean_imp.parquet')\n",
    "similarity_tfidf_mean_imp = pd.read_parquet('/export/usuarios_ml4ds/mbalairon/github/recommendation_system/similarity_matrices_researchers/similarity_tfidf_mean_imp.parquet')\n",
    "similarity_battacharyya_mean_imp = pd.read_parquet('/export/usuarios_ml4ds/mbalairon/github/recommendation_system/similarity_matrices_researchers/similarity_bhattacharyya_mean_imp.parquet')"
   ]
  },
  {
   "cell_type": "markdown",
   "id": "57b8b8ed-6770-48a5-b228-4df83a013e4c",
   "metadata": {
    "tags": []
   },
   "source": [
    "# 2. Obtain Recommendations"
   ]
  },
  {
   "cell_type": "code",
   "execution_count": 5,
   "id": "78f9d55b-e5fc-4883-a385-2876a55cdcf6",
   "metadata": {
    "tags": []
   },
   "outputs": [],
   "source": [
    "def match(similarities, researcher, df_calls, n=667):\n",
    "    '''\n",
    "    Function for obtaining the ranking of researchers given a call \n",
    "    \n",
    "    similarities -> df with all the smmilarities between researchers and calls\n",
    "    researcher -> Researcher of interest\n",
    "    n -> Number of recommendations we are interested in \n",
    "    df_calls -> Dataframe with the information about the calls\n",
    "    '''\n",
    "    \n",
    "    ranking = similarities.transpose()[researcher].sort_values(ascending=False).fillna(0)\n",
    "    ranking = pd.DataFrame(ranking).reset_index()\n",
    "    id_calls = ranking['index'].to_list()\n",
    "    similarities = ranking[researcher].to_list()\n",
    "    id_calls = pd.DataFrame({'Call': id_calls, 'similarity': similarities})\n",
    "    df_ranking_calls = pd.merge(id_calls, df_calls, on='Call', how='inner')\n",
    "\n",
    "    return df_ranking_calls.head(n)\n",
    "\n",
    "def recommendation_system(method, agg_method, researcher, calls, n=1129,\n",
    "                         path='/export/usuarios_ml4ds/mbalairon/github/recommendation_system/similarity_matrices_researchers/similarity_{}_{}.parquet'):\n",
    "    '''\n",
    "    function for obtaining the recommendations\n",
    "    \n",
    "    path -> Path to the file containing the similarity matrix\n",
    "    method -> Method selected to calculate the similarities \n",
    "    agg_method -> Agregation method selected for calculating the similarties between calls and researchers\n",
    "    '''\n",
    "    \n",
    "    similarities = pd.read_parquet(path.format(method, agg_method))\n",
    "    ranking = match(similarities, researcher, calls, n)\n",
    "    return ranking[['Call', 'Work Programme', 'similarity']]"
   ]
  },
  {
   "cell_type": "code",
   "execution_count": 6,
   "id": "9ee3ecc8-8e7c-462a-8a84-680f75c8eb2f",
   "metadata": {
    "tags": []
   },
   "outputs": [
    {
     "data": {
      "text/html": [
       "<div>\n",
       "<style scoped>\n",
       "    .dataframe tbody tr th:only-of-type {\n",
       "        vertical-align: middle;\n",
       "    }\n",
       "\n",
       "    .dataframe tbody tr th {\n",
       "        vertical-align: top;\n",
       "    }\n",
       "\n",
       "    .dataframe thead th {\n",
       "        text-align: right;\n",
       "    }\n",
       "</style>\n",
       "<table border=\"1\" class=\"dataframe\">\n",
       "  <thead>\n",
       "    <tr style=\"text-align: right;\">\n",
       "      <th></th>\n",
       "      <th>Call</th>\n",
       "      <th>Work Programme</th>\n",
       "      <th>similarity</th>\n",
       "    </tr>\n",
       "  </thead>\n",
       "  <tbody>\n",
       "    <tr>\n",
       "      <th>0</th>\n",
       "      <td>HORIZON-HLTH-2023-DISEASE-03-17</td>\n",
       "      <td>health</td>\n",
       "      <td>0.239693</td>\n",
       "    </tr>\n",
       "  </tbody>\n",
       "</table>\n",
       "</div>"
      ],
      "text/plain": [
       "                              Call Work Programme  similarity\n",
       "0  HORIZON-HLTH-2023-DISEASE-03-17         health    0.239693"
      ]
     },
     "execution_count": 6,
     "metadata": {},
     "output_type": "execute_result"
    }
   ],
   "source": [
    "ranking = recommendation_system(method='tfidf', agg_method='mean_imp', researcher='inv43190', calls=df_calls)\n",
    "ranking.head(1)"
   ]
  },
  {
   "cell_type": "code",
   "execution_count": 17,
   "id": "e41eda0e-cda5-402a-9ccb-fe14a1a0ffec",
   "metadata": {
    "tags": []
   },
   "outputs": [],
   "source": [
    "def invertir_nombre_apellido(full_name):\n",
    "    apellido, nombre = full_name.split(', ')\n",
    "    return nombre + ' ' + apellido\n",
    "\n",
    "# Aplica la función a la columna 'name' del DataFrame\n",
    "df_researchers['Nombre y Apellidos IP'] = df_researchers['Name'].apply(invertir_nombre_apellido)\n",
    "\n"
   ]
  },
  {
   "cell_type": "code",
   "execution_count": 60,
   "id": "84d14ae0-594f-4b9a-9fe4-c7219dd1ee80",
   "metadata": {
    "tags": []
   },
   "outputs": [
    {
     "data": {
      "text/html": [
       "<div>\n",
       "<style scoped>\n",
       "    .dataframe tbody tr th:only-of-type {\n",
       "        vertical-align: middle;\n",
       "    }\n",
       "\n",
       "    .dataframe tbody tr th {\n",
       "        vertical-align: top;\n",
       "    }\n",
       "\n",
       "    .dataframe thead th {\n",
       "        text-align: right;\n",
       "    }\n",
       "</style>\n",
       "<table border=\"1\" class=\"dataframe\">\n",
       "  <thead>\n",
       "    <tr style=\"text-align: right;\">\n",
       "      <th></th>\n",
       "      <th>Año Fecha Fin Convocatoria</th>\n",
       "      <th>Área</th>\n",
       "      <th>Nombre y Apellidos IP</th>\n",
       "      <th>Departamento</th>\n",
       "      <th>Acrónimo</th>\n",
       "      <th>Línea prioritia/panel/topic</th>\n",
       "      <th>ESTADO</th>\n",
       "      <th>invID</th>\n",
       "    </tr>\n",
       "  </thead>\n",
       "  <tbody>\n",
       "    <tr>\n",
       "      <th>0</th>\n",
       "      <td>2023</td>\n",
       "      <td>Cluster 5. Clima, energia y movilidad</td>\n",
       "      <td>Rauno Cavallaro</td>\n",
       "      <td>Aeroespacial</td>\n",
       "      <td>MISSION</td>\n",
       "      <td>HORIZON-CL5-2023-D5-01-09</td>\n",
       "      <td>DENEGADA</td>\n",
       "      <td>inv44624</td>\n",
       "    </tr>\n",
       "    <tr>\n",
       "      <th>1</th>\n",
       "      <td>2024</td>\n",
       "      <td>Cluster 5. Clima, energia y movilidad</td>\n",
       "      <td>Rauno Cavallaro</td>\n",
       "      <td>Aeroespacial</td>\n",
       "      <td>CORRECT-NOX</td>\n",
       "      <td>HORIZON-CL5-2024-D5-01-07</td>\n",
       "      <td>PREPARACIÓN</td>\n",
       "      <td>inv44624</td>\n",
       "    </tr>\n",
       "    <tr>\n",
       "      <th>2</th>\n",
       "      <td>2023</td>\n",
       "      <td>Cluster 5. Clima, energia y movilidad</td>\n",
       "      <td>Marco Raiola</td>\n",
       "      <td>Aeroespacial</td>\n",
       "      <td>SURF</td>\n",
       "      <td>HORIZON-CL5-2023-D3-01-05</td>\n",
       "      <td>DENEGADA</td>\n",
       "      <td>inv43379</td>\n",
       "    </tr>\n",
       "    <tr>\n",
       "      <th>3</th>\n",
       "      <td>2023</td>\n",
       "      <td>Cluster 5. Clima, energia y movilidad</td>\n",
       "      <td>Andrea Cini</td>\n",
       "      <td>Aeroespacial</td>\n",
       "      <td>QSAVED</td>\n",
       "      <td>HORIZON-CL5-2023-D6-01-11</td>\n",
       "      <td>DENEGADA</td>\n",
       "      <td>inv46956</td>\n",
       "    </tr>\n",
       "    <tr>\n",
       "      <th>4</th>\n",
       "      <td>2024</td>\n",
       "      <td>Cluster 4. Mundo digital, industria y espacio</td>\n",
       "      <td>Antonio Soria Verdugo</td>\n",
       "      <td>Ingeniería Térmica y de Fluidos</td>\n",
       "      <td>HILARIOUS</td>\n",
       "      <td>HORIZON-CL4-2024-TWIN-TRANSITION-01-46</td>\n",
       "      <td>PRESENTADA</td>\n",
       "      <td>inv37839</td>\n",
       "    </tr>\n",
       "  </tbody>\n",
       "</table>\n",
       "</div>"
      ],
      "text/plain": [
       "   Año Fecha Fin Convocatoria                                           Área  \\\n",
       "0                        2023          Cluster 5. Clima, energia y movilidad   \n",
       "1                        2024          Cluster 5. Clima, energia y movilidad   \n",
       "2                        2023          Cluster 5. Clima, energia y movilidad   \n",
       "3                        2023          Cluster 5. Clima, energia y movilidad   \n",
       "4                        2024  Cluster 4. Mundo digital, industria y espacio   \n",
       "\n",
       "   Nombre y Apellidos IP                     Departamento     Acrónimo  \\\n",
       "0        Rauno Cavallaro                     Aeroespacial      MISSION   \n",
       "1        Rauno Cavallaro                     Aeroespacial  CORRECT-NOX   \n",
       "2           Marco Raiola                     Aeroespacial         SURF   \n",
       "3            Andrea Cini                     Aeroespacial       QSAVED   \n",
       "4  Antonio Soria Verdugo  Ingeniería Térmica y de Fluidos    HILARIOUS   \n",
       "\n",
       "              Línea prioritia/panel/topic       ESTADO     invID  \n",
       "0               HORIZON-CL5-2023-D5-01-09     DENEGADA  inv44624  \n",
       "1               HORIZON-CL5-2024-D5-01-07  PREPARACIÓN  inv44624  \n",
       "2               HORIZON-CL5-2023-D3-01-05     DENEGADA  inv43379  \n",
       "3               HORIZON-CL5-2023-D6-01-11     DENEGADA  inv46956  \n",
       "4  HORIZON-CL4-2024-TWIN-TRANSITION-01-46   PRESENTADA  inv37839  "
      ]
     },
     "execution_count": 60,
     "metadata": {},
     "output_type": "execute_result"
    }
   ],
   "source": [
    "prueba = df_val.merge(df_researchers[['Nombre y Apellidos IP', 'invID']], on='Nombre y Apellidos IP')\n",
    "prueba"
   ]
  },
  {
   "cell_type": "code",
   "execution_count": 73,
   "id": "f3b75461-26a2-4e46-a6dc-de21e652d6c0",
   "metadata": {
    "tags": []
   },
   "outputs": [],
   "source": [
    "def get_validation_results(df_val, df_researchers, df_calls, method, agg_method):\n",
    "    '''\n",
    "    Función para calcular las métricas de similitud además de preparar el dataset para el SI\n",
    "    \n",
    "    df_val -> DataFrame con las propuestas de validación del SI (lo que han solicitado de verdad los investigadores)\n",
    "    df_researchers -> DataSet con todos los datos relativos a los investigadores\n",
    "    df_calls -> DataSet con todos los datos relativos a las convocatorias\n",
    "    method -> Method selected to calculate the similarities \n",
    "    agg_method -> Agregation method selected for calculating the similarties between calls and researchers\n",
    "    \n",
    "    '''\n",
    "    new_rows  = []\n",
    "    for i in range(df_val.shape[0]):\n",
    "        invID = df_val['invID'][i]\n",
    "        call_validation = df_val['Línea prioritia/panel/topic'][i]\n",
    "\n",
    "        # obtener metadatos de interés para el SI\n",
    "        acronimo = df_val['Acrónimo'][i]\n",
    "        department = df_researchers[df_researchers['invID']==invID].reset_index()['Department'][0]\n",
    "\n",
    "        # obtener el ranking para el investigador dado y quedarnos solo con las filas por encima de la call de validación\n",
    "        ranking = recommendation_system(method=method, agg_method=agg_method, researcher=invID, calls=df_calls)\n",
    "        total_calls = ranking.shape[0]\n",
    "        max_similarity = ranking['similarity'][0]\n",
    "        indice_valor_exacto = ranking.loc[ranking['Call'] == call_validation].index[0]\n",
    "        ranking = ranking.iloc[:indice_valor_exacto + 1]\n",
    "\n",
    "        # calcular el score basado en la posicón\n",
    "        posicion = ranking.shape[0]\n",
    "        score_posicion = 1 - (posicion / total_calls)\n",
    "\n",
    "        # calcular el score basado en la métrica de similitud\n",
    "        similarity = ranking['similarity'][posicion-1]\n",
    "        score_similarity = 1 - ((max_similarity - similarity)/max_similarity)\n",
    "\n",
    "        # calcular el score basado en el cluster\n",
    "        cluster_correcto = ranking['Work Programme'][posicion-1]\n",
    "        count_cluster_correctos = 0\n",
    "        for i in range(ranking.shape[0]):\n",
    "            if ranking['Work Programme'][i] == cluster_correcto:\n",
    "                count_cluster_correctos += 1\n",
    "\n",
    "        score_cluster = count_cluster_correctos/ranking.shape[0]\n",
    "\n",
    "        # añadir la fila a la lista de diccionarios\n",
    "        new_rows.append({'invID': invID,\n",
    "                         'call': call_validation,\n",
    "                         'acronimo': acronimo,\n",
    "                         'department': department,\n",
    "                         'posicion': posicion,\n",
    "                         'similitud': similarity,\n",
    "                         'metodo': method + '_' +agg_method,\n",
    "                         'score_posicion': score_posicion,\n",
    "                         'score_similarity': score_similarity,\n",
    "                         'score_cluster': score_cluster,\n",
    "                         'score': (score_posicion + score_similarity + score_cluster) / 3})\n",
    "\n",
    "    # crear un nuevo DataFrame con las filas añadidas\n",
    "    df_validation_results = pd.DataFrame(new_rows)\n",
    "    \n",
    "    return df_validation_results\n"
   ]
  },
  {
   "cell_type": "code",
   "execution_count": 75,
   "id": "9d305c15-9be8-4a95-be51-101f97c2fd17",
   "metadata": {
    "tags": []
   },
   "outputs": [],
   "source": [
    "df_val_results = get_validation_results(df_val=prueba, df_researchers=df_researchers, df_calls=df_calls, method='tfidf', agg_method='mean_imp')"
   ]
  },
  {
   "cell_type": "code",
   "execution_count": 76,
   "id": "6e26826e-feab-447b-9371-98b06215228c",
   "metadata": {
    "tags": []
   },
   "outputs": [
    {
     "data": {
      "text/html": [
       "<div>\n",
       "<style scoped>\n",
       "    .dataframe tbody tr th:only-of-type {\n",
       "        vertical-align: middle;\n",
       "    }\n",
       "\n",
       "    .dataframe tbody tr th {\n",
       "        vertical-align: top;\n",
       "    }\n",
       "\n",
       "    .dataframe thead th {\n",
       "        text-align: right;\n",
       "    }\n",
       "</style>\n",
       "<table border=\"1\" class=\"dataframe\">\n",
       "  <thead>\n",
       "    <tr style=\"text-align: right;\">\n",
       "      <th></th>\n",
       "      <th>invID</th>\n",
       "      <th>call</th>\n",
       "      <th>acronimo</th>\n",
       "      <th>department</th>\n",
       "      <th>posicion</th>\n",
       "      <th>similitud</th>\n",
       "      <th>metodo</th>\n",
       "      <th>score_posicion</th>\n",
       "      <th>score_similarity</th>\n",
       "      <th>score_cluster</th>\n",
       "      <th>score</th>\n",
       "    </tr>\n",
       "  </thead>\n",
       "  <tbody>\n",
       "    <tr>\n",
       "      <th>0</th>\n",
       "      <td>inv44624</td>\n",
       "      <td>HORIZON-CL5-2023-D5-01-09</td>\n",
       "      <td>MISSION</td>\n",
       "      <td>Aerospace Engineering</td>\n",
       "      <td>4</td>\n",
       "      <td>0.081775</td>\n",
       "      <td>tfidf_mean_imp</td>\n",
       "      <td>0.993930</td>\n",
       "      <td>0.605578</td>\n",
       "      <td>1.000000</td>\n",
       "      <td>0.866503</td>\n",
       "    </tr>\n",
       "    <tr>\n",
       "      <th>1</th>\n",
       "      <td>inv44624</td>\n",
       "      <td>HORIZON-CL5-2024-D5-01-07</td>\n",
       "      <td>CORRECT-NOX</td>\n",
       "      <td>Aerospace Engineering</td>\n",
       "      <td>26</td>\n",
       "      <td>0.048797</td>\n",
       "      <td>tfidf_mean_imp</td>\n",
       "      <td>0.960546</td>\n",
       "      <td>0.361358</td>\n",
       "      <td>0.615385</td>\n",
       "      <td>0.645763</td>\n",
       "    </tr>\n",
       "    <tr>\n",
       "      <th>2</th>\n",
       "      <td>inv43379</td>\n",
       "      <td>HORIZON-CL5-2023-D3-01-05</td>\n",
       "      <td>SURF</td>\n",
       "      <td>Aerospace Engineering</td>\n",
       "      <td>459</td>\n",
       "      <td>0.000000</td>\n",
       "      <td>tfidf_mean_imp</td>\n",
       "      <td>0.303490</td>\n",
       "      <td>0.000000</td>\n",
       "      <td>0.241830</td>\n",
       "      <td>0.181773</td>\n",
       "    </tr>\n",
       "    <tr>\n",
       "      <th>3</th>\n",
       "      <td>inv46956</td>\n",
       "      <td>HORIZON-CL5-2023-D6-01-11</td>\n",
       "      <td>QSAVED</td>\n",
       "      <td>Aerospace Engineering</td>\n",
       "      <td>26</td>\n",
       "      <td>0.040336</td>\n",
       "      <td>tfidf_mean_imp</td>\n",
       "      <td>0.960546</td>\n",
       "      <td>0.464376</td>\n",
       "      <td>0.730769</td>\n",
       "      <td>0.718564</td>\n",
       "    </tr>\n",
       "    <tr>\n",
       "      <th>4</th>\n",
       "      <td>inv37839</td>\n",
       "      <td>HORIZON-CL4-2024-TWIN-TRANSITION-01-46</td>\n",
       "      <td>HILARIOUS</td>\n",
       "      <td>Thermal and Fluids Engineering</td>\n",
       "      <td>150</td>\n",
       "      <td>0.039170</td>\n",
       "      <td>tfidf_mean_imp</td>\n",
       "      <td>0.772382</td>\n",
       "      <td>0.270970</td>\n",
       "      <td>0.226667</td>\n",
       "      <td>0.423340</td>\n",
       "    </tr>\n",
       "  </tbody>\n",
       "</table>\n",
       "</div>"
      ],
      "text/plain": [
       "      invID                                    call     acronimo  \\\n",
       "0  inv44624               HORIZON-CL5-2023-D5-01-09      MISSION   \n",
       "1  inv44624               HORIZON-CL5-2024-D5-01-07  CORRECT-NOX   \n",
       "2  inv43379               HORIZON-CL5-2023-D3-01-05         SURF   \n",
       "3  inv46956               HORIZON-CL5-2023-D6-01-11       QSAVED   \n",
       "4  inv37839  HORIZON-CL4-2024-TWIN-TRANSITION-01-46    HILARIOUS   \n",
       "\n",
       "                       department  posicion  similitud          metodo  \\\n",
       "0           Aerospace Engineering         4   0.081775  tfidf_mean_imp   \n",
       "1           Aerospace Engineering        26   0.048797  tfidf_mean_imp   \n",
       "2           Aerospace Engineering       459   0.000000  tfidf_mean_imp   \n",
       "3           Aerospace Engineering        26   0.040336  tfidf_mean_imp   \n",
       "4  Thermal and Fluids Engineering       150   0.039170  tfidf_mean_imp   \n",
       "\n",
       "   score_posicion  score_similarity  score_cluster     score  \n",
       "0        0.993930          0.605578       1.000000  0.866503  \n",
       "1        0.960546          0.361358       0.615385  0.645763  \n",
       "2        0.303490          0.000000       0.241830  0.181773  \n",
       "3        0.960546          0.464376       0.730769  0.718564  \n",
       "4        0.772382          0.270970       0.226667  0.423340  "
      ]
     },
     "execution_count": 76,
     "metadata": {},
     "output_type": "execute_result"
    }
   ],
   "source": [
    "df_val_results"
   ]
  }
 ],
 "metadata": {
  "kernelspec": {
   "display_name": "Python 3 (ipykernel)",
   "language": "python",
   "name": "python3"
  },
  "language_info": {
   "codemirror_mode": {
    "name": "ipython",
    "version": 3
   },
   "file_extension": ".py",
   "mimetype": "text/x-python",
   "name": "python",
   "nbconvert_exporter": "python",
   "pygments_lexer": "ipython3",
   "version": "3.10.11"
  }
 },
 "nbformat": 4,
 "nbformat_minor": 5
}
