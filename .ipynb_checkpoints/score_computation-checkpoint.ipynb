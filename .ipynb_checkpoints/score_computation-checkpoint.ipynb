{
 "cells": [
  {
   "cell_type": "code",
   "execution_count": 1,
   "id": "142e99ef-fb8c-484f-8cca-5979e60b59f3",
   "metadata": {
    "tags": []
   },
   "outputs": [
    {
     "name": "stderr",
     "output_type": "stream",
     "text": [
      "/home/mafuello/.local/lib/python3.10/site-packages/fuzzywuzzy/fuzz.py:11: UserWarning: Using slow pure-python SequenceMatcher. Install python-Levenshtein to remove this warning\n",
      "  warnings.warn('Using slow pure-python SequenceMatcher. Install python-Levenshtein to remove this warning')\n"
     ]
    }
   ],
   "source": [
    "import pandas as pd\n",
    "import numpy as np\n",
    "from fuzzywuzzy import process\n",
    "from tqdm import tqdm"
   ]
  },
  {
   "cell_type": "markdown",
   "id": "46956df1-53bc-4a2d-86ab-5395514bce54",
   "metadata": {},
   "source": [
    "# 1. Load datasets and Similarity matrices"
   ]
  },
  {
   "cell_type": "code",
   "execution_count": 2,
   "id": "3d10d412-c2f6-4a78-9c53-5bbbdf0b625f",
   "metadata": {
    "tags": []
   },
   "outputs": [
    {
     "name": "stderr",
     "output_type": "stream",
     "text": [
      "/home/mafuello/.local/lib/python3.10/site-packages/openpyxl/worksheet/_reader.py:329: UserWarning: Data Validation extension is not supported and will be removed\n",
      "  warn(msg)\n"
     ]
    }
   ],
   "source": [
    "# load databases\n",
    "df_eic = pd.read_parquet('/export/data_ml4ds/AI4U/Datasets/work_programmes/EIC_work_programmes.parquet')\n",
    "df_horizon = pd.read_parquet('/export/data_ml4ds/AI4U/Datasets/work_programmes/horizon_work_programmes.parquet')\n",
    "\n",
    "df_publications = pd.read_parquet('/export/data_ml4ds/AI4U/Datasets/ResearchPortal/20240321/parquet/publications.parquet')\n",
    "df_publications_researchers = pd.read_parquet('/export/data_ml4ds/AI4U/Datasets/ResearchPortal/20240321/parquet/researchers_publications.parquet')\n",
    "df_researchers = pd.read_parquet('/export/data_ml4ds/AI4U/Datasets/ResearchPortal/20240321/parquet/researchers.parquet')\n",
    "\n",
    "# join together al the calls (igual que cuando creamos las matrices de similitud)\n",
    "df_eic['Call'] = df_eic['id']\n",
    "df_calls = pd.concat([df_horizon[['Call', 'Work Programme']], df_eic[['Call', 'Work Programme']]], axis=0).reset_index(drop=True)\n",
    "\n",
    "# load the validation set\n",
    "df_val = pd.read_excel('/export/usuarios_ml4ds/mafuello/Github/recommendation_system_validation/validation_set.xlsx')"
   ]
  },
  {
   "cell_type": "markdown",
   "id": "57b8b8ed-6770-48a5-b228-4df83a013e4c",
   "metadata": {
    "tags": []
   },
   "source": [
    "# 2. Obtain Recommendations"
   ]
  },
  {
   "cell_type": "code",
   "execution_count": 3,
   "id": "78f9d55b-e5fc-4883-a385-2876a55cdcf6",
   "metadata": {
    "tags": []
   },
   "outputs": [],
   "source": [
    "def get_similarity_publication(sim_matrix, df_publications):\n",
    "    '''\n",
    "    Function for getting a dataset with the id of each of the publications and the similarity with each of the calls\n",
    "    \n",
    "    sim_matrix -> similarity matrix \n",
    "    df_publication -> df containing the publications \n",
    "    '''\n",
    "    df = sim_matrix.reset_index()\n",
    "\n",
    "    df['similarity'] = df.apply(lambda row: row.values[1:], axis=1)\n",
    "\n",
    "    # Seleccionar solo las columnas 'index' e 'similarity'\n",
    "    df = df[['index', 'similarity']]\n",
    "\n",
    "    # Renombrar las columnas\n",
    "    df.columns = ['actID', 'similarity']\n",
    "    \n",
    "    return df\n",
    "\n",
    "def match(similarities, researcher, df_calls, n=667):\n",
    "    '''\n",
    "    Function for obtaining the ranking of researchers given a call \n",
    "    \n",
    "    similarities -> df with all the smmilarities between researchers and calls\n",
    "    researcher -> Researcher of interest\n",
    "    n -> Number of recommendations we are interested in \n",
    "    df_calls -> Dataframe with the information about the calls\n",
    "    '''\n",
    "    \n",
    "    ranking = similarities.transpose()[researcher].sort_values(ascending=False).fillna(0)\n",
    "    ranking = pd.DataFrame(ranking).reset_index()\n",
    "    id_calls = ranking['index'].to_list()\n",
    "    similarities = ranking[researcher].to_list()\n",
    "    id_calls = pd.DataFrame({'Call': id_calls, 'similarity': similarities})\n",
    "    df_ranking_calls = pd.merge(id_calls, df_calls, on='Call', how='inner')\n",
    "\n",
    "    return df_ranking_calls.head(n)\n",
    "\n",
    "def recommendation_system(method, agg_method, researcher, calls, n=1129,\n",
    "                         path='/export/usuarios_ml4ds/mbalairon/github/recommendation_system/similarity_matrices_researchers/similarity_{}_{}.parquet'):\n",
    "    '''\n",
    "    function for obtaining the recommendations\n",
    "    \n",
    "    path -> Path to the file containing the similarity matrix\n",
    "    method -> Method selected to calculate the similarities \n",
    "    agg_method -> Agregation method selected for calculating the similarties between calls and researchers\n",
    "    '''\n",
    "    \n",
    "    similarities = pd.read_parquet(path.format(method, agg_method))\n",
    "    ranking = match(similarities, researcher, calls, n)\n",
    "    return ranking[['Call', 'Work Programme', 'similarity']]"
   ]
  },
  {
   "cell_type": "code",
   "execution_count": 5,
   "id": "f3b75461-26a2-4e46-a6dc-de21e652d6c0",
   "metadata": {
    "tags": []
   },
   "outputs": [],
   "source": [
    "def get_validation_results(df_val, df_researchers, df_calls, method, agg_method):\n",
    "    '''\n",
    "    Función para calcular las métricas de similitud además de preparar el dataset para el SI\n",
    "    \n",
    "    df_val -> DataFrame con las propuestas de validación del SI (lo que han solicitado de verdad los investigadores)\n",
    "    df_researchers -> DataSet con todos los datos relativos a los investigadores\n",
    "    df_calls -> DataSet con todos los datos relativos a las convocatorias\n",
    "    method -> Method selected to calculate the similarities \n",
    "    agg_method -> Agregation method selected for calculating the similarties between calls and researchers\n",
    "    \n",
    "    '''\n",
    "    \n",
    "    new_rows  = []\n",
    "    for i in range(df_val.shape[0]):\n",
    "        invID = df_val['invID'][i]\n",
    "        call_validation = df_val['Línea prioritia/panel/topic'][i]\n",
    "\n",
    "        # obtener metadatos de interés para el SI\n",
    "        acronimo = df_val['Acrónimo'][i]\n",
    "        department = df_researchers[df_researchers['invID']==invID].reset_index()['Department'][0]\n",
    "\n",
    "        # obtener el ranking para el investigador dado y quedarnos solo con las filas por encima de la call de validación\n",
    "        try:\n",
    "            ranking = recommendation_system(method=method, agg_method=agg_method, researcher=invID, calls=df_calls)\n",
    "            total_calls = ranking.shape[0]\n",
    "            max_similarity = ranking['similarity'][0]\n",
    "            indice_valor_exacto = ranking.loc[ranking['Call'] == call_validation].index[0]\n",
    "            ranking = ranking.iloc[:indice_valor_exacto + 1]\n",
    "\n",
    "            # calcular el score basado en la posicón\n",
    "            posicion = ranking.shape[0]\n",
    "\n",
    "            # sacar las cinco primeras calls de cada investigador\n",
    "            if posicion>5:\n",
    "                primeras_calls = ranking['Call'].head(5).tolist()\n",
    "\n",
    "            else:\n",
    "                primeras_calls = ranking['Call'].tolist()      \n",
    "            \n",
    "            primeras_calls = ' '.join(primeras_calls)\n",
    "\n",
    "            # calcular el score basado en la métrica de similitud\n",
    "            similarity = ranking['similarity'][posicion-1]\n",
    "            score_similarity = 1 - ((max_similarity - similarity)/max_similarity)\n",
    "\n",
    "            if similarity == 0:\n",
    "                score_posicion = 0\n",
    "            else:\n",
    "                score_posicion = 1 - (posicion / total_calls)\n",
    "\n",
    "            # calcular el score basado en el cluster\n",
    "            cluster_correcto = ranking['Work Programme'][posicion-1]\n",
    "            count_cluster_correctos = 0\n",
    "            for i in range(ranking.shape[0]):\n",
    "                if ranking['Work Programme'][i] == cluster_correcto:\n",
    "                    count_cluster_correctos += 1\n",
    "\n",
    "            score_cluster = count_cluster_correctos/ranking.shape[0]\n",
    "            score = (score_posicion + score_similarity + score_cluster) / 3\n",
    "            \n",
    "            \n",
    "        # provisional (meter los codigos de los proyectos)   \n",
    "        except:\n",
    "            print('Investigador: ', invID,  ' no tiene publicaciones')\n",
    "            posicion = None\n",
    "            similitud = None\n",
    "            primeras_calls = None\n",
    "            score_posicion = None\n",
    "            score_similitarity = None\n",
    "            score_cluster = None\n",
    "            score = None\n",
    "            \n",
    "\n",
    "        # añadir la fila a la lista de diccionarios\n",
    "        new_rows.append({'invID': invID,\n",
    "                         'call': call_validation,\n",
    "                         'acronimo': acronimo,\n",
    "                         'department': department,\n",
    "                         'posicion': posicion,\n",
    "                         'similitud': similarity,\n",
    "                         'metodo': method + '_' + agg_method,\n",
    "                         '5 primeros':  primeras_calls,\n",
    "                         'score_posicion': score_posicion,\n",
    "                         'score_similarity': score_similarity,\n",
    "                         'score_cluster': score_cluster,\n",
    "                         'score': score})\n",
    "\n",
    "    # crear un nuevo DataFrame con las filas añadidas\n",
    "    df_validation_results = pd.DataFrame(new_rows).sort_values(by='score', ascending=False).fillna(0)\n",
    "    \n",
    "    return df_validation_results\n"
   ]
  },
  {
   "cell_type": "code",
   "execution_count": 7,
   "id": "815b0087-e21c-4225-9b6e-528ce4bdf7f1",
   "metadata": {
    "tags": []
   },
   "outputs": [
    {
     "name": "stderr",
     "output_type": "stream",
     "text": [
      "Procesando:   0%|          | 0/12 [00:00<?, ?it/s]"
     ]
    },
    {
     "name": "stdout",
     "output_type": "stream",
     "text": [
      "Investigador:  inv49042  no tiene publicaciones\n",
      "Investigador:  inv48049  no tiene publicaciones\n",
      "Investigador:  inv42059  no tiene publicaciones\n",
      "Investigador:  inv35687  no tiene publicaciones\n",
      "Investigador:  inv44095  no tiene publicaciones\n",
      "Investigador:  inv50422  no tiene publicaciones\n",
      "Investigador:  inv42059  no tiene publicaciones\n"
     ]
    },
    {
     "name": "stderr",
     "output_type": "stream",
     "text": [
      "Procesando:   8%|▊         | 1/12 [00:05<01:01,  5.61s/it]"
     ]
    },
    {
     "name": "stdout",
     "output_type": "stream",
     "text": [
      "Investigador:  inv49042  no tiene publicaciones\n",
      "Investigador:  inv48049  no tiene publicaciones\n",
      "Investigador:  inv42059  no tiene publicaciones\n",
      "Investigador:  inv35687  no tiene publicaciones\n",
      "Investigador:  inv44095  no tiene publicaciones\n",
      "Investigador:  inv50422  no tiene publicaciones\n",
      "Investigador:  inv42059  no tiene publicaciones\n"
     ]
    },
    {
     "name": "stderr",
     "output_type": "stream",
     "text": [
      "Procesando:  17%|█▋        | 2/12 [00:11<00:56,  5.65s/it]"
     ]
    },
    {
     "name": "stdout",
     "output_type": "stream",
     "text": [
      "Investigador:  inv49042  no tiene publicaciones\n",
      "Investigador:  inv48049  no tiene publicaciones\n",
      "Investigador:  inv42059  no tiene publicaciones\n",
      "Investigador:  inv35687  no tiene publicaciones\n",
      "Investigador:  inv44095  no tiene publicaciones\n",
      "Investigador:  inv50422  no tiene publicaciones\n",
      "Investigador:  inv42059  no tiene publicaciones\n"
     ]
    },
    {
     "name": "stderr",
     "output_type": "stream",
     "text": [
      "Procesando:  25%|██▌       | 3/12 [00:16<00:50,  5.63s/it]"
     ]
    },
    {
     "name": "stdout",
     "output_type": "stream",
     "text": [
      "Investigador:  inv49042  no tiene publicaciones\n",
      "Investigador:  inv48049  no tiene publicaciones\n",
      "Investigador:  inv42059  no tiene publicaciones\n",
      "Investigador:  inv35687  no tiene publicaciones\n",
      "Investigador:  inv44095  no tiene publicaciones\n",
      "Investigador:  inv50422  no tiene publicaciones\n",
      "Investigador:  inv42059  no tiene publicaciones\n"
     ]
    },
    {
     "name": "stderr",
     "output_type": "stream",
     "text": [
      "Procesando:  33%|███▎      | 4/12 [00:22<00:44,  5.61s/it]"
     ]
    },
    {
     "name": "stdout",
     "output_type": "stream",
     "text": [
      "Investigador:  inv49042  no tiene publicaciones\n",
      "Investigador:  inv48049  no tiene publicaciones\n",
      "Investigador:  inv42059  no tiene publicaciones\n",
      "Investigador:  inv35687  no tiene publicaciones\n",
      "Investigador:  inv44095  no tiene publicaciones\n",
      "Investigador:  inv50422  no tiene publicaciones\n",
      "Investigador:  inv42059  no tiene publicaciones\n"
     ]
    },
    {
     "name": "stderr",
     "output_type": "stream",
     "text": [
      "Procesando:  42%|████▏     | 5/12 [00:28<00:39,  5.64s/it]"
     ]
    },
    {
     "name": "stdout",
     "output_type": "stream",
     "text": [
      "Investigador:  inv49042  no tiene publicaciones\n",
      "Investigador:  inv48049  no tiene publicaciones\n",
      "Investigador:  inv42059  no tiene publicaciones\n",
      "Investigador:  inv35687  no tiene publicaciones\n",
      "Investigador:  inv44095  no tiene publicaciones\n",
      "Investigador:  inv50422  no tiene publicaciones\n",
      "Investigador:  inv42059  no tiene publicaciones\n"
     ]
    },
    {
     "name": "stderr",
     "output_type": "stream",
     "text": [
      "Procesando:  50%|█████     | 6/12 [00:33<00:33,  5.65s/it]"
     ]
    },
    {
     "name": "stdout",
     "output_type": "stream",
     "text": [
      "Investigador:  inv49042  no tiene publicaciones\n",
      "Investigador:  inv48049  no tiene publicaciones\n",
      "Investigador:  inv42059  no tiene publicaciones\n",
      "Investigador:  inv35687  no tiene publicaciones\n",
      "Investigador:  inv44095  no tiene publicaciones\n",
      "Investigador:  inv50422  no tiene publicaciones\n",
      "Investigador:  inv42059  no tiene publicaciones\n"
     ]
    },
    {
     "name": "stderr",
     "output_type": "stream",
     "text": [
      "Procesando:  58%|█████▊    | 7/12 [00:39<00:28,  5.64s/it]"
     ]
    },
    {
     "name": "stdout",
     "output_type": "stream",
     "text": [
      "Investigador:  inv49042  no tiene publicaciones\n",
      "Investigador:  inv48049  no tiene publicaciones\n",
      "Investigador:  inv42059  no tiene publicaciones\n",
      "Investigador:  inv35687  no tiene publicaciones\n",
      "Investigador:  inv44095  no tiene publicaciones\n",
      "Investigador:  inv50422  no tiene publicaciones\n",
      "Investigador:  inv42059  no tiene publicaciones\n"
     ]
    },
    {
     "name": "stderr",
     "output_type": "stream",
     "text": [
      "Procesando:  67%|██████▋   | 8/12 [00:45<00:22,  5.64s/it]"
     ]
    },
    {
     "name": "stdout",
     "output_type": "stream",
     "text": [
      "Investigador:  inv49042  no tiene publicaciones\n",
      "Investigador:  inv48049  no tiene publicaciones\n",
      "Investigador:  inv42059  no tiene publicaciones\n",
      "Investigador:  inv35687  no tiene publicaciones\n",
      "Investigador:  inv44095  no tiene publicaciones\n",
      "Investigador:  inv50422  no tiene publicaciones\n",
      "Investigador:  inv42059  no tiene publicaciones\n"
     ]
    },
    {
     "name": "stderr",
     "output_type": "stream",
     "text": [
      "Procesando:  75%|███████▌  | 9/12 [00:50<00:17,  5.68s/it]"
     ]
    },
    {
     "name": "stdout",
     "output_type": "stream",
     "text": [
      "Investigador:  inv49042  no tiene publicaciones\n",
      "Investigador:  inv48049  no tiene publicaciones\n",
      "Investigador:  inv42059  no tiene publicaciones\n",
      "Investigador:  inv35687  no tiene publicaciones\n",
      "Investigador:  inv44095  no tiene publicaciones\n",
      "Investigador:  inv50422  no tiene publicaciones\n",
      "Investigador:  inv42059  no tiene publicaciones\n"
     ]
    },
    {
     "name": "stderr",
     "output_type": "stream",
     "text": [
      "Procesando:  83%|████████▎ | 10/12 [00:56<00:11,  5.67s/it]"
     ]
    },
    {
     "name": "stdout",
     "output_type": "stream",
     "text": [
      "Investigador:  inv49042  no tiene publicaciones\n",
      "Investigador:  inv48049  no tiene publicaciones\n",
      "Investigador:  inv42059  no tiene publicaciones\n",
      "Investigador:  inv35687  no tiene publicaciones\n",
      "Investigador:  inv44095  no tiene publicaciones\n",
      "Investigador:  inv50422  no tiene publicaciones\n",
      "Investigador:  inv42059  no tiene publicaciones\n"
     ]
    },
    {
     "name": "stderr",
     "output_type": "stream",
     "text": [
      "Procesando:  92%|█████████▏| 11/12 [01:02<00:05,  5.64s/it]"
     ]
    },
    {
     "name": "stdout",
     "output_type": "stream",
     "text": [
      "Investigador:  inv49042  no tiene publicaciones\n",
      "Investigador:  inv48049  no tiene publicaciones\n",
      "Investigador:  inv42059  no tiene publicaciones\n",
      "Investigador:  inv35687  no tiene publicaciones\n",
      "Investigador:  inv44095  no tiene publicaciones\n",
      "Investigador:  inv50422  no tiene publicaciones\n",
      "Investigador:  inv42059  no tiene publicaciones\n"
     ]
    },
    {
     "name": "stderr",
     "output_type": "stream",
     "text": [
      "Procesando: 100%|██████████| 12/12 [01:07<00:00,  5.65s/it]\n"
     ]
    }
   ],
   "source": [
    "methods = ['BERT', 'tfidf', 'bhattacharyya', 'embeddings']\n",
    "agg_methods = ['sum', 'mean', 'mean_imp'] \n",
    "val_results = {}\n",
    "\n",
    "# Calcular el total de iteraciones\n",
    "total_iterations = len(methods) * len(agg_methods)\n",
    "\n",
    "# Crear una barra de progreso\n",
    "progress_bar = tqdm(total=total_iterations, desc=\"Procesando\")\n",
    "\n",
    "for i in methods:\n",
    "    for j in agg_methods:\n",
    "        val_results[f\"{i}_{j}_val_results\"] = get_validation_results(df_val=df_val, df_researchers=df_researchers, df_calls=df_calls, method=i, agg_method=j)\n",
    "        # Actualizar la barra de progreso después de cada iteración\n",
    "        progress_bar.update(1)\n",
    "\n",
    "# Marcar la barra de progreso como completa\n",
    "progress_bar.close()"
   ]
  },
  {
   "cell_type": "code",
   "execution_count": 8,
   "id": "57b8334d-daa7-4643-9d4e-32e6f024d7ab",
   "metadata": {
    "tags": []
   },
   "outputs": [
    {
     "data": {
      "text/html": [
       "<div>\n",
       "<style scoped>\n",
       "    .dataframe tbody tr th:only-of-type {\n",
       "        vertical-align: middle;\n",
       "    }\n",
       "\n",
       "    .dataframe tbody tr th {\n",
       "        vertical-align: top;\n",
       "    }\n",
       "\n",
       "    .dataframe thead th {\n",
       "        text-align: right;\n",
       "    }\n",
       "</style>\n",
       "<table border=\"1\" class=\"dataframe\">\n",
       "  <thead>\n",
       "    <tr style=\"text-align: right;\">\n",
       "      <th></th>\n",
       "      <th>invID</th>\n",
       "      <th>call</th>\n",
       "      <th>acronimo</th>\n",
       "      <th>department</th>\n",
       "      <th>posicion</th>\n",
       "      <th>similitud</th>\n",
       "      <th>metodo</th>\n",
       "      <th>5 primeros</th>\n",
       "      <th>score_posicion</th>\n",
       "      <th>score_similarity</th>\n",
       "      <th>score_cluster</th>\n",
       "      <th>score</th>\n",
       "    </tr>\n",
       "  </thead>\n",
       "  <tbody>\n",
       "    <tr>\n",
       "      <th>0</th>\n",
       "      <td>inv44624</td>\n",
       "      <td>HORIZON-CL5-2023-D5-01-09</td>\n",
       "      <td>MISSION</td>\n",
       "      <td>Aerospace Engineering</td>\n",
       "      <td>1.0</td>\n",
       "      <td>9.224060</td>\n",
       "      <td>BERT_sum</td>\n",
       "      <td>HORIZON-CL5-2023-D5-01-09</td>\n",
       "      <td>0.998483</td>\n",
       "      <td>1.000000</td>\n",
       "      <td>1.0</td>\n",
       "      <td>0.999494</td>\n",
       "    </tr>\n",
       "    <tr>\n",
       "      <th>207</th>\n",
       "      <td>inv21183</td>\n",
       "      <td>HORIZON-CL4-2023-DIGITAL-EMERGING-01-01</td>\n",
       "      <td>Multonomy</td>\n",
       "      <td>Systems Engineering and Automation</td>\n",
       "      <td>1.0</td>\n",
       "      <td>0.095047</td>\n",
       "      <td>tfidf_mean</td>\n",
       "      <td>HORIZON-CL4-2023-DIGITAL-EMERGING-01-01</td>\n",
       "      <td>0.998483</td>\n",
       "      <td>1.000000</td>\n",
       "      <td>1.0</td>\n",
       "      <td>0.999494</td>\n",
       "    </tr>\n",
       "    <tr>\n",
       "      <th>102</th>\n",
       "      <td>inv44624</td>\n",
       "      <td>HORIZON-CL5-2023-D5-01-09</td>\n",
       "      <td>MISSION</td>\n",
       "      <td>Aerospace Engineering</td>\n",
       "      <td>1.0</td>\n",
       "      <td>0.614937</td>\n",
       "      <td>BERT_mean_imp</td>\n",
       "      <td>HORIZON-CL5-2023-D5-01-09</td>\n",
       "      <td>0.998483</td>\n",
       "      <td>1.000000</td>\n",
       "      <td>1.0</td>\n",
       "      <td>0.999494</td>\n",
       "    </tr>\n",
       "    <tr>\n",
       "      <th>103</th>\n",
       "      <td>inv21183</td>\n",
       "      <td>HORIZON-CL4-2023-DIGITAL-EMERGING-01-01</td>\n",
       "      <td>Multonomy</td>\n",
       "      <td>Systems Engineering and Automation</td>\n",
       "      <td>1.0</td>\n",
       "      <td>0.654342</td>\n",
       "      <td>BERT_mean_imp</td>\n",
       "      <td>HORIZON-CL4-2023-DIGITAL-EMERGING-01-01</td>\n",
       "      <td>0.998483</td>\n",
       "      <td>1.000000</td>\n",
       "      <td>1.0</td>\n",
       "      <td>0.999494</td>\n",
       "    </tr>\n",
       "    <tr>\n",
       "      <th>153</th>\n",
       "      <td>inv44624</td>\n",
       "      <td>HORIZON-CL5-2023-D5-01-09</td>\n",
       "      <td>MISSION</td>\n",
       "      <td>Aerospace Engineering</td>\n",
       "      <td>1.0</td>\n",
       "      <td>0.490651</td>\n",
       "      <td>tfidf_sum</td>\n",
       "      <td>HORIZON-CL5-2023-D5-01-09</td>\n",
       "      <td>0.998483</td>\n",
       "      <td>1.000000</td>\n",
       "      <td>1.0</td>\n",
       "      <td>0.999494</td>\n",
       "    </tr>\n",
       "    <tr>\n",
       "      <th>...</th>\n",
       "      <td>...</td>\n",
       "      <td>...</td>\n",
       "      <td>...</td>\n",
       "      <td>...</td>\n",
       "      <td>...</td>\n",
       "      <td>...</td>\n",
       "      <td>...</td>\n",
       "      <td>...</td>\n",
       "      <td>...</td>\n",
       "      <td>...</td>\n",
       "      <td>...</td>\n",
       "      <td>...</td>\n",
       "    </tr>\n",
       "    <tr>\n",
       "      <th>405</th>\n",
       "      <td>inv44095</td>\n",
       "      <td>HORIZON-EIC-2023-PATHFINDERCHALLENGES-01-05</td>\n",
       "      <td>E.T.COMPACT</td>\n",
       "      <td>Aerospace Engineering</td>\n",
       "      <td>0.0</td>\n",
       "      <td>0.065983</td>\n",
       "      <td>bhattacharyya_mean</td>\n",
       "      <td>0</td>\n",
       "      <td>0.000000</td>\n",
       "      <td>0.125114</td>\n",
       "      <td>0.0</td>\n",
       "      <td>0.000000</td>\n",
       "    </tr>\n",
       "    <tr>\n",
       "      <th>146</th>\n",
       "      <td>inv49042</td>\n",
       "      <td>HORIZON-CL4-2023-HUMAN-01-05</td>\n",
       "      <td>CiTrusVerse</td>\n",
       "      <td>Telematic Engineering</td>\n",
       "      <td>0.0</td>\n",
       "      <td>0.442069</td>\n",
       "      <td>BERT_mean_imp</td>\n",
       "      <td>0</td>\n",
       "      <td>0.000000</td>\n",
       "      <td>0.774586</td>\n",
       "      <td>0.0</td>\n",
       "      <td>0.000000</td>\n",
       "    </tr>\n",
       "    <tr>\n",
       "      <th>147</th>\n",
       "      <td>inv48049</td>\n",
       "      <td>HORIZON-CL2-2023-DEMOCRACY-01-06</td>\n",
       "      <td>Express2</td>\n",
       "      <td>Social Sciences</td>\n",
       "      <td>0.0</td>\n",
       "      <td>0.436295</td>\n",
       "      <td>BERT_mean_imp</td>\n",
       "      <td>0</td>\n",
       "      <td>0.000000</td>\n",
       "      <td>0.853265</td>\n",
       "      <td>0.0</td>\n",
       "      <td>0.000000</td>\n",
       "    </tr>\n",
       "    <tr>\n",
       "      <th>148</th>\n",
       "      <td>inv42059</td>\n",
       "      <td>HORIZON-CL6-2023-FARM2FORK-01-07</td>\n",
       "      <td>LASERPEST</td>\n",
       "      <td>Systems Engineering and Automation</td>\n",
       "      <td>0.0</td>\n",
       "      <td>0.369133</td>\n",
       "      <td>BERT_mean_imp</td>\n",
       "      <td>0</td>\n",
       "      <td>0.000000</td>\n",
       "      <td>0.746733</td>\n",
       "      <td>0.0</td>\n",
       "      <td>0.000000</td>\n",
       "    </tr>\n",
       "    <tr>\n",
       "      <th>611</th>\n",
       "      <td>inv42059</td>\n",
       "      <td>HORIZON-CL4-2024-DIGITAL-EMERGING-01</td>\n",
       "      <td>ERONE</td>\n",
       "      <td>Systems Engineering and Automation</td>\n",
       "      <td>0.0</td>\n",
       "      <td>0.836182</td>\n",
       "      <td>embeddings_mean_imp</td>\n",
       "      <td>0</td>\n",
       "      <td>0.000000</td>\n",
       "      <td>0.924686</td>\n",
       "      <td>0.0</td>\n",
       "      <td>0.000000</td>\n",
       "    </tr>\n",
       "  </tbody>\n",
       "</table>\n",
       "<p>612 rows × 12 columns</p>\n",
       "</div>"
      ],
      "text/plain": [
       "        invID                                         call     acronimo  \\\n",
       "0    inv44624                    HORIZON-CL5-2023-D5-01-09      MISSION   \n",
       "207  inv21183      HORIZON-CL4-2023-DIGITAL-EMERGING-01-01    Multonomy   \n",
       "102  inv44624                    HORIZON-CL5-2023-D5-01-09      MISSION   \n",
       "103  inv21183      HORIZON-CL4-2023-DIGITAL-EMERGING-01-01    Multonomy   \n",
       "153  inv44624                    HORIZON-CL5-2023-D5-01-09      MISSION   \n",
       "..        ...                                          ...          ...   \n",
       "405  inv44095  HORIZON-EIC-2023-PATHFINDERCHALLENGES-01-05  E.T.COMPACT   \n",
       "146  inv49042                 HORIZON-CL4-2023-HUMAN-01-05  CiTrusVerse   \n",
       "147  inv48049             HORIZON-CL2-2023-DEMOCRACY-01-06     Express2   \n",
       "148  inv42059             HORIZON-CL6-2023-FARM2FORK-01-07   LASERPEST    \n",
       "611  inv42059         HORIZON-CL4-2024-DIGITAL-EMERGING-01        ERONE   \n",
       "\n",
       "                             department  posicion  similitud  \\\n",
       "0                 Aerospace Engineering       1.0   9.224060   \n",
       "207  Systems Engineering and Automation       1.0   0.095047   \n",
       "102               Aerospace Engineering       1.0   0.614937   \n",
       "103  Systems Engineering and Automation       1.0   0.654342   \n",
       "153               Aerospace Engineering       1.0   0.490651   \n",
       "..                                  ...       ...        ...   \n",
       "405               Aerospace Engineering       0.0   0.065983   \n",
       "146               Telematic Engineering       0.0   0.442069   \n",
       "147                     Social Sciences       0.0   0.436295   \n",
       "148  Systems Engineering and Automation       0.0   0.369133   \n",
       "611  Systems Engineering and Automation       0.0   0.836182   \n",
       "\n",
       "                  metodo                               5 primeros  \\\n",
       "0               BERT_sum                HORIZON-CL5-2023-D5-01-09   \n",
       "207           tfidf_mean  HORIZON-CL4-2023-DIGITAL-EMERGING-01-01   \n",
       "102        BERT_mean_imp                HORIZON-CL5-2023-D5-01-09   \n",
       "103        BERT_mean_imp  HORIZON-CL4-2023-DIGITAL-EMERGING-01-01   \n",
       "153            tfidf_sum                HORIZON-CL5-2023-D5-01-09   \n",
       "..                   ...                                      ...   \n",
       "405   bhattacharyya_mean                                        0   \n",
       "146        BERT_mean_imp                                        0   \n",
       "147        BERT_mean_imp                                        0   \n",
       "148        BERT_mean_imp                                        0   \n",
       "611  embeddings_mean_imp                                        0   \n",
       "\n",
       "     score_posicion  score_similarity  score_cluster     score  \n",
       "0          0.998483          1.000000            1.0  0.999494  \n",
       "207        0.998483          1.000000            1.0  0.999494  \n",
       "102        0.998483          1.000000            1.0  0.999494  \n",
       "103        0.998483          1.000000            1.0  0.999494  \n",
       "153        0.998483          1.000000            1.0  0.999494  \n",
       "..              ...               ...            ...       ...  \n",
       "405        0.000000          0.125114            0.0  0.000000  \n",
       "146        0.000000          0.774586            0.0  0.000000  \n",
       "147        0.000000          0.853265            0.0  0.000000  \n",
       "148        0.000000          0.746733            0.0  0.000000  \n",
       "611        0.000000          0.924686            0.0  0.000000  \n",
       "\n",
       "[612 rows x 12 columns]"
      ]
     },
     "execution_count": 8,
     "metadata": {},
     "output_type": "execute_result"
    }
   ],
   "source": [
    "# Unificar todos los dataframes\n",
    "dfs = []\n",
    "\n",
    "for key, df in val_results.items():\n",
    "    # Agregar el DataFrame a la lista\n",
    "    dfs.append(df)\n",
    "\n",
    "df_val_total = pd.concat(dfs, ignore_index=True).sort_values(by = 'score', ascending = False).fillna(0)\n",
    "df_val_total"
   ]
  }
 ],
 "metadata": {
  "kernelspec": {
   "display_name": "Python 3 (ipykernel)",
   "language": "python",
   "name": "python3"
  },
  "language_info": {
   "codemirror_mode": {
    "name": "ipython",
    "version": 3
   },
   "file_extension": ".py",
   "mimetype": "text/x-python",
   "name": "python",
   "nbconvert_exporter": "python",
   "pygments_lexer": "ipython3",
   "version": "3.10.11"
  }
 },
 "nbformat": 4,
 "nbformat_minor": 5
}
